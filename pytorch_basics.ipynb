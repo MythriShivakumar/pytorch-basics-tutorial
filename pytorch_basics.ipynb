{
  "cells": [
    {
      "cell_type": "code",
      "source": [
        "!pip install accelerate"
      ],
      "metadata": {
        "colab": {
          "base_uri": "https://localhost:8080/"
        },
        "id": "j7aIqrOpJfUg",
        "outputId": "8ed45d47-c783-402b-ea12-041b101dc80d"
      },
      "execution_count": null,
      "outputs": [
        {
          "output_type": "stream",
          "name": "stdout",
          "text": [
            "Requirement already satisfied: accelerate in /usr/local/lib/python3.11/dist-packages (1.2.1)\n",
            "Requirement already satisfied: numpy<3.0.0,>=1.17 in /usr/local/lib/python3.11/dist-packages (from accelerate) (1.26.4)\n",
            "Requirement already satisfied: packaging>=20.0 in /usr/local/lib/python3.11/dist-packages (from accelerate) (24.2)\n",
            "Requirement already satisfied: psutil in /usr/local/lib/python3.11/dist-packages (from accelerate) (5.9.5)\n",
            "Requirement already satisfied: pyyaml in /usr/local/lib/python3.11/dist-packages (from accelerate) (6.0.2)\n",
            "Requirement already satisfied: torch>=1.10.0 in /usr/local/lib/python3.11/dist-packages (from accelerate) (2.5.1+cu124)\n",
            "Requirement already satisfied: huggingface-hub>=0.21.0 in /usr/local/lib/python3.11/dist-packages (from accelerate) (0.27.1)\n",
            "Requirement already satisfied: safetensors>=0.4.3 in /usr/local/lib/python3.11/dist-packages (from accelerate) (0.5.2)\n",
            "Requirement already satisfied: filelock in /usr/local/lib/python3.11/dist-packages (from huggingface-hub>=0.21.0->accelerate) (3.17.0)\n",
            "Requirement already satisfied: fsspec>=2023.5.0 in /usr/local/lib/python3.11/dist-packages (from huggingface-hub>=0.21.0->accelerate) (2024.10.0)\n",
            "Requirement already satisfied: requests in /usr/local/lib/python3.11/dist-packages (from huggingface-hub>=0.21.0->accelerate) (2.32.3)\n",
            "Requirement already satisfied: tqdm>=4.42.1 in /usr/local/lib/python3.11/dist-packages (from huggingface-hub>=0.21.0->accelerate) (4.67.1)\n",
            "Requirement already satisfied: typing-extensions>=3.7.4.3 in /usr/local/lib/python3.11/dist-packages (from huggingface-hub>=0.21.0->accelerate) (4.12.2)\n",
            "Requirement already satisfied: networkx in /usr/local/lib/python3.11/dist-packages (from torch>=1.10.0->accelerate) (3.4.2)\n",
            "Requirement already satisfied: jinja2 in /usr/local/lib/python3.11/dist-packages (from torch>=1.10.0->accelerate) (3.1.5)\n",
            "Requirement already satisfied: nvidia-cuda-nvrtc-cu12==12.4.127 in /usr/local/lib/python3.11/dist-packages (from torch>=1.10.0->accelerate) (12.4.127)\n",
            "Requirement already satisfied: nvidia-cuda-runtime-cu12==12.4.127 in /usr/local/lib/python3.11/dist-packages (from torch>=1.10.0->accelerate) (12.4.127)\n",
            "Requirement already satisfied: nvidia-cuda-cupti-cu12==12.4.127 in /usr/local/lib/python3.11/dist-packages (from torch>=1.10.0->accelerate) (12.4.127)\n",
            "Requirement already satisfied: nvidia-cudnn-cu12==9.1.0.70 in /usr/local/lib/python3.11/dist-packages (from torch>=1.10.0->accelerate) (9.1.0.70)\n",
            "Requirement already satisfied: nvidia-cublas-cu12==12.4.5.8 in /usr/local/lib/python3.11/dist-packages (from torch>=1.10.0->accelerate) (12.4.5.8)\n",
            "Requirement already satisfied: nvidia-cufft-cu12==11.2.1.3 in /usr/local/lib/python3.11/dist-packages (from torch>=1.10.0->accelerate) (11.2.1.3)\n",
            "Requirement already satisfied: nvidia-curand-cu12==10.3.5.147 in /usr/local/lib/python3.11/dist-packages (from torch>=1.10.0->accelerate) (10.3.5.147)\n",
            "Requirement already satisfied: nvidia-cusolver-cu12==11.6.1.9 in /usr/local/lib/python3.11/dist-packages (from torch>=1.10.0->accelerate) (11.6.1.9)\n",
            "Requirement already satisfied: nvidia-cusparse-cu12==12.3.1.170 in /usr/local/lib/python3.11/dist-packages (from torch>=1.10.0->accelerate) (12.3.1.170)\n",
            "Requirement already satisfied: nvidia-nccl-cu12==2.21.5 in /usr/local/lib/python3.11/dist-packages (from torch>=1.10.0->accelerate) (2.21.5)\n",
            "Requirement already satisfied: nvidia-nvtx-cu12==12.4.127 in /usr/local/lib/python3.11/dist-packages (from torch>=1.10.0->accelerate) (12.4.127)\n",
            "Requirement already satisfied: nvidia-nvjitlink-cu12==12.4.127 in /usr/local/lib/python3.11/dist-packages (from torch>=1.10.0->accelerate) (12.4.127)\n",
            "Requirement already satisfied: triton==3.1.0 in /usr/local/lib/python3.11/dist-packages (from torch>=1.10.0->accelerate) (3.1.0)\n",
            "Requirement already satisfied: sympy==1.13.1 in /usr/local/lib/python3.11/dist-packages (from torch>=1.10.0->accelerate) (1.13.1)\n",
            "Requirement already satisfied: mpmath<1.4,>=1.1.0 in /usr/local/lib/python3.11/dist-packages (from sympy==1.13.1->torch>=1.10.0->accelerate) (1.3.0)\n",
            "Requirement already satisfied: MarkupSafe>=2.0 in /usr/local/lib/python3.11/dist-packages (from jinja2->torch>=1.10.0->accelerate) (3.0.2)\n",
            "Requirement already satisfied: charset-normalizer<4,>=2 in /usr/local/lib/python3.11/dist-packages (from requests->huggingface-hub>=0.21.0->accelerate) (3.4.1)\n",
            "Requirement already satisfied: idna<4,>=2.5 in /usr/local/lib/python3.11/dist-packages (from requests->huggingface-hub>=0.21.0->accelerate) (3.10)\n",
            "Requirement already satisfied: urllib3<3,>=1.21.1 in /usr/local/lib/python3.11/dist-packages (from requests->huggingface-hub>=0.21.0->accelerate) (2.3.0)\n",
            "Requirement already satisfied: certifi>=2017.4.17 in /usr/local/lib/python3.11/dist-packages (from requests->huggingface-hub>=0.21.0->accelerate) (2024.12.14)\n"
          ]
        }
      ]
    },
    {
      "cell_type": "code",
      "execution_count": null,
      "metadata": {
        "id": "Ulr9Hk_U1h8f"
      },
      "outputs": [],
      "source": [
        "import torch\n",
        "import torch.nn as nn\n",
        "import torch.nn.functional as F\n",
        "import torchvision\n",
        "import torchvision.transforms as transforms\n",
        "import matplotlib.pyplot as plt\n",
        "import numpy as np\n",
        "import torch.optim as optim\n",
        "import matplotlib\n",
        "import math\n",
        "from accelerate import Accelerator\n",
        "import matplotlib.ticker as ticker\n",
        "import math\n",
        "from torch.utils.tensorboard import SummaryWriter\n",
        "from datetime import datetime"
      ]
    },
    {
      "cell_type": "code",
      "execution_count": null,
      "metadata": {
        "colab": {
          "base_uri": "https://localhost:8080/"
        },
        "id": "P9gwSJEP1h8f",
        "outputId": "4c34b49e-05a5-48f6-dbe3-f8624f6247f7"
      },
      "outputs": [
        {
          "output_type": "stream",
          "name": "stdout",
          "text": [
            "tensor([[0., 0., 0.],\n",
            "        [0., 0., 0.],\n",
            "        [0., 0., 0.],\n",
            "        [0., 0., 0.],\n",
            "        [0., 0., 0.],\n",
            "        [0., 0., 0.]])\n",
            "torch.float32\n"
          ]
        }
      ],
      "source": [
        "z = torch.zeros(6, 3)\n",
        "print(z)\n",
        "print(z.dtype)"
      ]
    },
    {
      "cell_type": "code",
      "execution_count": null,
      "metadata": {
        "colab": {
          "base_uri": "https://localhost:8080/"
        },
        "id": "txuBUJOp1h8f",
        "outputId": "06d9d1a6-0a90-4b6b-ca9a-8090eede5e50"
      },
      "outputs": [
        {
          "output_type": "stream",
          "name": "stdout",
          "text": [
            "tensor([[1, 1, 1],\n",
            "        [1, 1, 1],\n",
            "        [1, 1, 1],\n",
            "        [1, 1, 1],\n",
            "        [1, 1, 1],\n",
            "        [1, 1, 1]], dtype=torch.int16)\n"
          ]
        }
      ],
      "source": [
        "i = torch.ones((6, 3), dtype=torch.int16)\n",
        "print(i)"
      ]
    },
    {
      "cell_type": "code",
      "execution_count": null,
      "metadata": {
        "colab": {
          "base_uri": "https://localhost:8080/"
        },
        "id": "7JnF2hT_1h8g",
        "outputId": "dea7b911-ec5d-42df-8eb6-7d1ced9b77d6"
      },
      "outputs": [
        {
          "output_type": "stream",
          "name": "stdout",
          "text": [
            "A random tensor:\n",
            "tensor([[0.3126, 0.3791, 0.3087],\n",
            "        [0.0736, 0.4216, 0.0691],\n",
            "        [0.2332, 0.4047, 0.2162]])\n",
            "\n",
            "A different random tensor:\n",
            "tensor([[0.9927, 0.4128, 0.5938],\n",
            "        [0.6128, 0.1519, 0.0453],\n",
            "        [0.5035, 0.9978, 0.3884]])\n",
            "\n",
            "Same as r1:\n",
            "tensor([[0.3126, 0.3791, 0.3087],\n",
            "        [0.0736, 0.4216, 0.0691],\n",
            "        [0.2332, 0.4047, 0.2162]])\n"
          ]
        }
      ],
      "source": [
        "torch.manual_seed(1729)\n",
        "r1 = torch.rand(3, 3)\n",
        "print('A random tensor:')\n",
        "print(r1)\n",
        "\n",
        "r2 = torch.rand(3, 3)\n",
        "print('\\nA different random tensor:')\n",
        "print(r2) # new values\n",
        "\n",
        "torch.manual_seed(1729)\n",
        "r3 = torch.rand(3, 3)\n",
        "print('\\nSame as r1:')\n",
        "print(r3) # repeats values of r1 because of re-seed"
      ]
    },
    {
      "cell_type": "code",
      "execution_count": null,
      "metadata": {
        "colab": {
          "base_uri": "https://localhost:8080/"
        },
        "id": "ZPKEAA9j1h8g",
        "outputId": "b921b787-2b43-497a-eb15-4f8a22fdbb1c"
      },
      "outputs": [
        {
          "output_type": "stream",
          "name": "stdout",
          "text": [
            "tensor([[1., 1., 1.],\n",
            "        [1., 1., 1.],\n",
            "        [1., 1., 1.]])\n",
            "tensor([[2., 2., 2.],\n",
            "        [2., 2., 2.],\n",
            "        [2., 2., 2.]])\n",
            "tensor([[3., 3., 3.],\n",
            "        [3., 3., 3.],\n",
            "        [3., 3., 3.]])\n",
            "torch.Size([3, 3])\n"
          ]
        }
      ],
      "source": [
        "ones = torch.ones(3, 3)\n",
        "print(ones)\n",
        "\n",
        "twos = torch.ones(3, 3) * 2 # every element is multiplied by 2\n",
        "print(twos)\n",
        "\n",
        "threes = ones + twos       # addition allowed because shapes are similar\n",
        "print(threes)              # tensors are added element-wise\n",
        "print(threes.shape)        # this has the same dimensions as input tensors\n",
        "\n",
        "r1 = torch.rand(3, 3)\n",
        "r2 = torch.rand(3, 3)"
      ]
    },
    {
      "cell_type": "code",
      "execution_count": null,
      "metadata": {
        "colab": {
          "base_uri": "https://localhost:8080/"
        },
        "id": "Ul5x3WiD1h8g",
        "outputId": "ac8630c4-ed22-47d5-8d65-a10fc08ca0bb"
      },
      "outputs": [
        {
          "output_type": "stream",
          "name": "stdout",
          "text": [
            "A random matrix, r:\n",
            "tensor([[-0.4587, -0.1770,  0.3677],\n",
            "        [-0.8595,  0.0210,  0.8901],\n",
            "        [-0.5283, -0.6041, -0.3345]])\n",
            "\n",
            "Absolute value of r:\n",
            "tensor([[0.4587, 0.1770, 0.3677],\n",
            "        [0.8595, 0.0210, 0.8901],\n",
            "        [0.5283, 0.6041, 0.3345]])\n",
            "\n",
            "Inverse sine of r:\n",
            "tensor([[-0.4765, -0.1780,  0.3766],\n",
            "        [-1.0343,  0.0210,  1.0976],\n",
            "        [-0.5566, -0.6487, -0.3411]])\n",
            "\n",
            "Determinant of r:\n",
            "tensor(0.0857)\n",
            "\n",
            "Singular value decomposition of r:\n",
            "torch.return_types.svd(\n",
            "U=tensor([[-0.4370,  0.0914, -0.8948],\n",
            "        [-0.8785, -0.2571,  0.4027],\n",
            "        [-0.1933,  0.9620,  0.1927]]),\n",
            "S=tensor([1.3857, 0.8597, 0.0720]),\n",
            "V=tensor([[ 0.7632, -0.3829, -0.5205],\n",
            "        [ 0.1268, -0.7012,  0.7016],\n",
            "        [-0.6336, -0.6015, -0.4866]]))\n",
            "\n",
            "Average and standard deviation of r:\n",
            "(tensor(0.5419), tensor(-0.1870))\n",
            "\n",
            "Maximum value of r:\n",
            "tensor(0.8901)\n"
          ]
        }
      ],
      "source": [
        "r = (torch.rand(3, 3) - 0.5) * 2\n",
        "print('A random matrix, r:')\n",
        "print(r)\n",
        "print('\\nAbsolute value of r:')\n",
        "print(torch.abs(r))\n",
        "print('\\nInverse sine of r:')\n",
        "print(torch.asin(r))\n",
        "print('\\nDeterminant of r:')\n",
        "print(torch.det(r))\n",
        "print('\\nSingular value decomposition of r:')\n",
        "print(torch.svd(r))\n",
        "print('\\nAverage and standard deviation of r:')\n",
        "print(torch.std_mean(r))\n",
        "print('\\nMaximum value of r:')\n",
        "print(torch.max(r))"
      ]
    },
    {
      "cell_type": "code",
      "execution_count": null,
      "metadata": {
        "id": "WjCPYYBE1h8h"
      },
      "outputs": [],
      "source": [
        "class LeNet(nn.Module):\n",
        "\n",
        "    def __init__(self):\n",
        "        super(LeNet, self).__init__()\n",
        "        # 1 input image channel (black & white), 6 output channels, 5x5 square convolution\n",
        "        # kernel\n",
        "        self.conv1 = nn.Conv2d(1, 6, 5)\n",
        "        self.conv2 = nn.Conv2d(6, 16, 5)\n",
        "        # an affine operation: y = Wx + b\n",
        "        self.fc1 = nn.Linear(16 * 5 * 5, 120)  # 5*5 from image dimension\n",
        "        self.fc2 = nn.Linear(120, 84)\n",
        "        self.fc3 = nn.Linear(84, 10)\n",
        "\n",
        "    def forward(self, x):\n",
        "        # Max pooling over a (2, 2) window\n",
        "        x = F.max_pool2d(F.relu(self.conv1(x)), (2, 2))\n",
        "        # If the size is a square you can only specify a single number\n",
        "        x = F.max_pool2d(F.relu(self.conv2(x)), 2)\n",
        "        x = x.view(-1, self.num_flat_features(x))\n",
        "        x = F.relu(self.fc1(x))\n",
        "        x = F.relu(self.fc2(x))\n",
        "        x = self.fc3(x)\n",
        "        return x\n",
        "\n",
        "    def num_flat_features(self, x):\n",
        "        size = x.size()[1:]  # all dimensions except the batch dimension\n",
        "        num_features = 1\n",
        "        for s in size:\n",
        "            num_features *= s\n",
        "        return num_features"
      ]
    },
    {
      "cell_type": "code",
      "execution_count": null,
      "metadata": {
        "colab": {
          "base_uri": "https://localhost:8080/"
        },
        "id": "jrm-auMO1h8h",
        "outputId": "bc44e06d-22e2-47f3-8bbd-f403b5d96b41"
      },
      "outputs": [
        {
          "output_type": "stream",
          "name": "stdout",
          "text": [
            "LeNet(\n",
            "  (conv1): Conv2d(1, 6, kernel_size=(5, 5), stride=(1, 1))\n",
            "  (conv2): Conv2d(6, 16, kernel_size=(5, 5), stride=(1, 1))\n",
            "  (fc1): Linear(in_features=400, out_features=120, bias=True)\n",
            "  (fc2): Linear(in_features=120, out_features=84, bias=True)\n",
            "  (fc3): Linear(in_features=84, out_features=10, bias=True)\n",
            ")\n",
            "\n",
            "Image batch shape:\n",
            "torch.Size([1, 1, 32, 32])\n",
            "\n",
            "Raw output:\n",
            "tensor([[-0.0758, -0.0739, -0.0351,  0.0660, -0.1330,  0.0200, -0.0101,  0.1234,\n",
            "         -0.0051,  0.0387]], grad_fn=<AddmmBackward0>)\n",
            "torch.Size([1, 10])\n"
          ]
        }
      ],
      "source": [
        "net = LeNet()\n",
        "print(net)                         # what does the object tell us about itself?\n",
        "\n",
        "input = torch.rand(1, 1, 32, 32)   # stand-in for a 32x32 black & white image\n",
        "print('\\nImage batch shape:')\n",
        "print(input.shape)\n",
        "\n",
        "output = net(input)                # we don't call forward() directly\n",
        "print('\\nRaw output:')\n",
        "print(output)\n",
        "print(output.shape)"
      ]
    },
    {
      "cell_type": "code",
      "execution_count": null,
      "metadata": {
        "id": "f8lPZbYc1h8h"
      },
      "outputs": [],
      "source": [
        "transform = transforms.Compose(\n",
        "    [transforms.ToTensor(),\n",
        "     transforms.Normalize((0.4914, 0.4822, 0.4465), (0.2470, 0.2435, 0.2616))])"
      ]
    },
    {
      "cell_type": "code",
      "execution_count": null,
      "metadata": {
        "colab": {
          "base_uri": "https://localhost:8080/"
        },
        "id": "pjBgS9kL1h8h",
        "outputId": "8be715aa-0c6a-45eb-f0ea-b6110a8b6ce3"
      },
      "outputs": [
        {
          "output_type": "stream",
          "name": "stdout",
          "text": [
            "Files already downloaded and verified\n"
          ]
        }
      ],
      "source": [
        "trainset = torchvision.datasets.CIFAR10(root='./data', train=True,\n",
        "                                        download=True, transform=transform)"
      ]
    },
    {
      "cell_type": "code",
      "execution_count": null,
      "metadata": {
        "id": "3P8SGaa_1h8i"
      },
      "outputs": [],
      "source": [
        "trainloader = torch.utils.data.DataLoader(trainset, batch_size=4,\n",
        "                                          shuffle=True, num_workers=2)"
      ]
    },
    {
      "cell_type": "code",
      "execution_count": null,
      "metadata": {
        "colab": {
          "base_uri": "https://localhost:8080/",
          "height": 247
        },
        "id": "o0_vWXwx1h8i",
        "outputId": "12d073fc-bc92-4a85-f376-176ff74a3c47"
      },
      "outputs": [
        {
          "output_type": "stream",
          "name": "stderr",
          "text": [
            "WARNING:matplotlib.image:Clipping input data to the valid range for imshow with RGB data ([0..1] for floats or [0..255] for integers). Got range [-0.49014378..1.5632443].\n"
          ]
        },
        {
          "output_type": "stream",
          "name": "stdout",
          "text": [
            "horse   dog   car   dog\n"
          ]
        },
        {
          "output_type": "display_data",
          "data": {
            "text/plain": [
              "<Figure size 640x480 with 1 Axes>"
            ],
            "image/png": "[encoded data removed]"
          },
          "metadata": {}
        }
      ],
      "source": [
        "classes = ('plane', 'car', 'bird', 'cat',\n",
        "           'deer', 'dog', 'frog', 'horse', 'ship', 'truck')\n",
        "\n",
        "def imshow(img):\n",
        "    img = img / 2 + 0.5     # unnormalize\n",
        "    npimg = img.numpy()\n",
        "    plt.imshow(np.transpose(npimg, (1, 2, 0)))\n",
        "\n",
        "\n",
        "# get some random training images\n",
        "dataiter = iter(trainloader)\n",
        "images, labels = next(dataiter)\n",
        "\n",
        "# show images\n",
        "imshow(torchvision.utils.make_grid(images))\n",
        "# print labels\n",
        "print(' '.join('%5s' % classes[labels[j]] for j in range(4)))"
      ]
    },
    {
      "cell_type": "code",
      "execution_count": null,
      "metadata": {
        "colab": {
          "base_uri": "https://localhost:8080/"
        },
        "id": "STeoCZWN1h8i",
        "outputId": "3bd0c49a-cf64-4355-e653-004f35c4eb8e"
      },
      "outputs": [
        {
          "output_type": "stream",
          "name": "stdout",
          "text": [
            "Files already downloaded and verified\n",
            "Files already downloaded and verified\n"
          ]
        }
      ],
      "source": [
        "transform = transforms.Compose(\n",
        "    [transforms.ToTensor(),\n",
        "     transforms.Normalize((0.5, 0.5, 0.5), (0.5, 0.5, 0.5))])\n",
        "\n",
        "trainset = torchvision.datasets.CIFAR10(root='./data', train=True,\n",
        "                                        download=True, transform=transform)\n",
        "trainloader = torch.utils.data.DataLoader(trainset, batch_size=4,\n",
        "                                          shuffle=True, num_workers=2)\n",
        "\n",
        "testset = torchvision.datasets.CIFAR10(root='./data', train=False,\n",
        "                                       download=True, transform=transform)\n",
        "testloader = torch.utils.data.DataLoader(testset, batch_size=4,\n",
        "                                         shuffle=False, num_workers=2)\n",
        "\n",
        "classes = ('plane', 'car', 'bird', 'cat',\n",
        "           'deer', 'dog', 'frog', 'horse', 'ship', 'truck')"
      ]
    },
    {
      "cell_type": "code",
      "execution_count": null,
      "metadata": {
        "colab": {
          "base_uri": "https://localhost:8080/",
          "height": 210
        },
        "id": "tjf1A-Ik1h8i",
        "outputId": "14538ed7-657c-4e22-ced3-44035d888201"
      },
      "outputs": [
        {
          "output_type": "stream",
          "name": "stdout",
          "text": [
            "plane truck truck  bird\n"
          ]
        },
        {
          "output_type": "display_data",
          "data": {
            "text/plain": [
              "<Figure size 640x480 with 1 Axes>"
            ],
            "image/png": "[encoded data removed]"
          },
          "metadata": {}
        }
      ],
      "source": [
        "def imshow(img):\n",
        "    img = img / 2 + 0.5     # unnormalize\n",
        "    npimg = img.numpy()\n",
        "    plt.imshow(np.transpose(npimg, (1, 2, 0)))\n",
        "\n",
        "\n",
        "# get some random training images\n",
        "dataiter = iter(trainloader)\n",
        "images, labels = next(dataiter)\n",
        "\n",
        "# show images\n",
        "imshow(torchvision.utils.make_grid(images))\n",
        "# print labels\n",
        "print(' '.join('%5s' % classes[labels[j]] for j in range(4)))"
      ]
    },
    {
      "cell_type": "code",
      "execution_count": null,
      "metadata": {
        "id": "FKgAyeAy1h8j"
      },
      "outputs": [],
      "source": [
        "class Net(nn.Module):\n",
        "    def __init__(self):\n",
        "        super(Net, self).__init__()\n",
        "        self.conv1 = nn.Conv2d(3, 6, 5)\n",
        "        self.pool = nn.MaxPool2d(2, 2)\n",
        "        self.conv2 = nn.Conv2d(6, 16, 5)\n",
        "        self.fc1 = nn.Linear(16 * 5 * 5, 120)\n",
        "        self.fc2 = nn.Linear(120, 84)\n",
        "        self.fc3 = nn.Linear(84, 10)\n",
        "\n",
        "    def forward(self, x):\n",
        "        x = self.pool(F.relu(self.conv1(x)))\n",
        "        x = self.pool(F.relu(self.conv2(x)))\n",
        "        x = x.view(-1, 16 * 5 * 5)\n",
        "        x = F.relu(self.fc1(x))\n",
        "        x = F.relu(self.fc2(x))\n",
        "        x = self.fc3(x)\n",
        "        return x\n",
        "\n",
        "\n",
        "net = Net()"
      ]
    },
    {
      "cell_type": "code",
      "execution_count": null,
      "metadata": {
        "id": "9ZMleWYJ1h8j"
      },
      "outputs": [],
      "source": [
        "criterion = nn.CrossEntropyLoss()\n",
        "optimizer = optim.SGD(net.parameters(), lr=0.001, momentum=0.9)"
      ]
    },
    {
      "cell_type": "code",
      "execution_count": null,
      "metadata": {
        "colab": {
          "base_uri": "https://localhost:8080/"
        },
        "id": "hzNu8Eao1h8j",
        "outputId": "41b2bea3-9907-41c1-d765-626c8cd322fa"
      },
      "outputs": [
        {
          "output_type": "stream",
          "name": "stdout",
          "text": [
            "[1,  2000] loss: 2.242\n",
            "[1,  4000] loss: 1.902\n",
            "[1,  6000] loss: 1.704\n",
            "[1,  8000] loss: 1.582\n",
            "[1, 10000] loss: 1.535\n",
            "[1, 12000] loss: 1.475\n",
            "[2,  2000] loss: 1.444\n",
            "[2,  4000] loss: 1.364\n",
            "[2,  6000] loss: 1.335\n",
            "[2,  8000] loss: 1.331\n",
            "[2, 10000] loss: 1.300\n",
            "[2, 12000] loss: 1.292\n",
            "[3,  2000] loss: 1.219\n",
            "[3,  4000] loss: 1.238\n",
            "[3,  6000] loss: 1.204\n",
            "[3,  8000] loss: 1.188\n",
            "[3, 10000] loss: 1.197\n",
            "[3, 12000] loss: 1.178\n",
            "[4,  2000] loss: 1.126\n",
            "[4,  4000] loss: 1.099\n",
            "[4,  6000] loss: 1.094\n",
            "[4,  8000] loss: 1.110\n",
            "[4, 10000] loss: 1.089\n",
            "[4, 12000] loss: 1.094\n",
            "[5,  2000] loss: 1.007\n",
            "[5,  4000] loss: 1.058\n",
            "[5,  6000] loss: 1.035\n",
            "[5,  8000] loss: 1.051\n",
            "[5, 10000] loss: 1.049\n",
            "[5, 12000] loss: 1.026\n",
            "Finished Training\n"
          ]
        }
      ],
      "source": [
        "for epoch in range(5):  # loop over the dataset multiple times\n",
        "\n",
        "    running_loss = 0.0\n",
        "    for i, data in enumerate(trainloader, 0):\n",
        "        # get the inputs\n",
        "        inputs, labels = data\n",
        "\n",
        "        # zero the parameter gradients\n",
        "        optimizer.zero_grad()\n",
        "\n",
        "        # forward + backward + optimize\n",
        "        outputs = net(inputs)\n",
        "        loss = criterion(outputs, labels)\n",
        "        loss.backward()\n",
        "        optimizer.step()\n",
        "\n",
        "        # print statistics\n",
        "        running_loss += loss.item()\n",
        "        if i % 2000 == 1999:    # print every 2000 mini-batches\n",
        "            print('[%d, %5d] loss: %.3f' %\n",
        "                  (epoch + 1, i + 1, running_loss / 2000))\n",
        "            running_loss = 0.0\n",
        "\n",
        "print('Finished Training')"
      ]
    },
    {
      "cell_type": "code",
      "execution_count": null,
      "metadata": {
        "colab": {
          "base_uri": "https://localhost:8080/"
        },
        "id": "QWxuYn7L1h8k",
        "outputId": "d81fdbca-efe7-4204-db3d-529366ad63bf"
      },
      "outputs": [
        {
          "output_type": "stream",
          "name": "stdout",
          "text": [
            "Accuracy of the network on the 10000 test images: 62 %\n"
          ]
        }
      ],
      "source": [
        "correct = 0\n",
        "total = 0\n",
        "with torch.no_grad():\n",
        "    for data in testloader:\n",
        "        images, labels = data\n",
        "        outputs = net(images)\n",
        "        _, predicted = torch.max(outputs.data, 1)\n",
        "        total += labels.size(0)\n",
        "        correct += (predicted == labels).sum().item()\n",
        "\n",
        "print('Accuracy of the network on the 10000 test images: %d %%' % (\n",
        "    100 * correct / total))"
      ]
    },
    {
      "cell_type": "code",
      "execution_count": null,
      "metadata": {
        "id": "67BBjI1l30bz",
        "colab": {
          "base_uri": "https://localhost:8080/"
        },
        "outputId": "8f3f9238-aaa2-42b7-87b3-db9361ce386d"
      },
      "outputs": [
        {
          "output_type": "stream",
          "name": "stdout",
          "text": [
            "tensor([[0.3126, 0.3791, 0.3087],\n",
            "        [0.0736, 0.4216, 0.0691]])\n",
            "tensor([[0.2332, 0.4047, 0.2162],\n",
            "        [0.9927, 0.4128, 0.5938]])\n",
            "tensor([[0.3126, 0.3791, 0.3087],\n",
            "        [0.0736, 0.4216, 0.0691]])\n",
            "tensor([[0.2332, 0.4047, 0.2162],\n",
            "        [0.9927, 0.4128, 0.5938]])\n"
          ]
        }
      ],
      "source": [
        "torch.manual_seed(1729)\n",
        "random1 = torch.rand(2, 3)\n",
        "print(random1)\n",
        "\n",
        "random2 = torch.rand(2, 3)\n",
        "print(random2)\n",
        "\n",
        "torch.manual_seed(1729)\n",
        "random3 = torch.rand(2, 3)\n",
        "print(random3)\n",
        "\n",
        "random4 = torch.rand(2, 3)\n",
        "print(random4)"
      ]
    },
    {
      "cell_type": "code",
      "execution_count": null,
      "metadata": {
        "id": "vy6kvbNt30b0",
        "colab": {
          "base_uri": "https://localhost:8080/"
        },
        "outputId": "54d6c287-f3e9-433c-e127-ec393eec4953"
      },
      "outputs": [
        {
          "output_type": "stream",
          "name": "stdout",
          "text": [
            "torch.Size([3, 3, 3])\n",
            "tensor([[[ 8.6022e-35,  0.0000e+00, -2.8634e+20],\n",
            "         [ 4.5343e-41,  0.0000e+00,  0.0000e+00],\n",
            "         [ 0.0000e+00,  0.0000e+00,  0.0000e+00]],\n",
            "\n",
            "        [[ 0.0000e+00,  0.0000e+00,  0.0000e+00],\n",
            "         [ 0.0000e+00,  0.0000e+00,  0.0000e+00],\n",
            "         [ 0.0000e+00,  1.4013e-45,  0.0000e+00]],\n",
            "\n",
            "        [[ 0.0000e+00,  0.0000e+00,  0.0000e+00],\n",
            "         [ 0.0000e+00,  0.0000e+00,  0.0000e+00],\n",
            "         [ 0.0000e+00,  0.0000e+00,  5.6052e-45]]])\n",
            "torch.Size([3, 3, 3])\n",
            "tensor([[[3.9672e-29, 0.0000e+00, 4.3601e-29],\n",
            "         [0.0000e+00, 1.1210e-43, 0.0000e+00],\n",
            "         [8.9683e-44, 0.0000e+00, 3.0446e-29]],\n",
            "\n",
            "        [[0.0000e+00, 0.0000e+00, 0.0000e+00],\n",
            "         [0.0000e+00, 0.0000e+00, 0.0000e+00],\n",
            "         [0.0000e+00, 1.4013e-45, 0.0000e+00]],\n",
            "\n",
            "        [[0.0000e+00, 0.0000e+00, 0.0000e+00],\n",
            "         [0.0000e+00, 1.5835e-43, 0.0000e+00],\n",
            "         [3.0643e-29, 0.0000e+00, 4.3601e-29]]])\n",
            "torch.Size([3, 3, 3])\n",
            "tensor([[[0., 0., 0.],\n",
            "         [0., 0., 0.],\n",
            "         [0., 0., 0.]],\n",
            "\n",
            "        [[0., 0., 0.],\n",
            "         [0., 0., 0.],\n",
            "         [0., 0., 0.]],\n",
            "\n",
            "        [[0., 0., 0.],\n",
            "         [0., 0., 0.],\n",
            "         [0., 0., 0.]]])\n",
            "torch.Size([3, 3, 3])\n",
            "tensor([[[1., 1., 1.],\n",
            "         [1., 1., 1.],\n",
            "         [1., 1., 1.]],\n",
            "\n",
            "        [[1., 1., 1.],\n",
            "         [1., 1., 1.],\n",
            "         [1., 1., 1.]],\n",
            "\n",
            "        [[1., 1., 1.],\n",
            "         [1., 1., 1.],\n",
            "         [1., 1., 1.]]])\n",
            "torch.Size([3, 3, 3])\n",
            "tensor([[[0.2995, 0.8594, 0.5628],\n",
            "         [0.7190, 0.4671, 0.6080],\n",
            "         [0.6934, 0.6193, 0.8994]],\n",
            "\n",
            "        [[0.4780, 0.6758, 0.5354],\n",
            "         [0.4060, 0.0173, 0.2822],\n",
            "         [0.1254, 0.0649, 0.2660]],\n",
            "\n",
            "        [[0.4156, 0.8807, 0.2222],\n",
            "         [0.3242, 0.2585, 0.1295],\n",
            "         [0.1116, 0.5921, 0.8168]]])\n"
          ]
        }
      ],
      "source": [
        "x = torch.empty(3, 3, 3)\n",
        "print(x.shape)\n",
        "print(x)\n",
        "\n",
        "empty_like_x = torch.empty_like(x)\n",
        "print(empty_like_x.shape)\n",
        "print(empty_like_x)\n",
        "\n",
        "zeros_like_x = torch.zeros_like(x)\n",
        "print(zeros_like_x.shape)\n",
        "print(zeros_like_x)\n",
        "\n",
        "ones_like_x = torch.ones_like(x)\n",
        "print(ones_like_x.shape)\n",
        "print(ones_like_x)\n",
        "\n",
        "rand_like_x = torch.rand_like(x)\n",
        "print(rand_like_x.shape)\n",
        "print(rand_like_x)"
      ]
    },
    {
      "cell_type": "code",
      "execution_count": null,
      "metadata": {
        "id": "2T8lPYjC30b0",
        "colab": {
          "base_uri": "https://localhost:8080/"
        },
        "outputId": "b51c5e65-acd1-4575-a7b0-561fc6ac8e4c"
      },
      "outputs": [
        {
          "output_type": "stream",
          "name": "stdout",
          "text": [
            "tensor([[2.9000, 3.8280],\n",
            "        [4.6803, 0.0073]])\n",
            "tensor([12, 15, 16,  3,  5,  7])\n",
            "tensor([[2, 3],\n",
            "        [5, 7]])\n"
          ]
        }
      ],
      "source": [
        "some_constants = torch.tensor([[2.9, 3.828], [4.6803, 0.0072897]])\n",
        "print(some_constants)\n",
        "\n",
        "some_integers = torch.tensor((12, 15, 16, 3, 5, 7))\n",
        "print(some_integers)\n",
        "\n",
        "more_integers = torch.tensor(((2, 3), [5, 7]))\n",
        "print(more_integers)"
      ]
    },
    {
      "cell_type": "code",
      "execution_count": null,
      "metadata": {
        "id": "3SOuZN7630b0",
        "colab": {
          "base_uri": "https://localhost:8080/"
        },
        "outputId": "8cac3f5c-ab68-4dd7-cee5-07f9fd99fa05"
      },
      "outputs": [
        {
          "output_type": "stream",
          "name": "stdout",
          "text": [
            "tensor([[1, 1, 1],\n",
            "        [1, 1, 1],\n",
            "        [1, 1, 1]], dtype=torch.int16)\n",
            "tensor([[ 3.7762,  7.8600, 12.5500],\n",
            "        [ 2.2983, 11.9491,  9.7254],\n",
            "        [19.0780,  3.2936,  8.8642]], dtype=torch.float64)\n",
            "tensor([[ 3,  7, 12],\n",
            "        [ 2, 11,  9],\n",
            "        [19,  3,  8]], dtype=torch.int32)\n"
          ]
        }
      ],
      "source": [
        "a = torch.ones((3, 3), dtype=torch.int16)\n",
        "print(a)\n",
        "\n",
        "b = torch.rand((3, 3), dtype=torch.float64) * 20.\n",
        "print(b)\n",
        "\n",
        "c = b.to(torch.int32)\n",
        "print(c)"
      ]
    },
    {
      "cell_type": "code",
      "execution_count": null,
      "metadata": {
        "id": "_YqTlCre30b1",
        "colab": {
          "base_uri": "https://localhost:8080/"
        },
        "outputId": "2480a077-0cf9-4f29-b3e1-5905f0006f6c"
      },
      "outputs": [
        {
          "output_type": "stream",
          "name": "stdout",
          "text": [
            "tensor([[1., 1., 1.],\n",
            "        [1., 1., 1.],\n",
            "        [1., 1., 1.]])\n",
            "tensor([[2., 2., 2.],\n",
            "        [2., 2., 2.],\n",
            "        [2., 2., 2.]])\n",
            "tensor([[3., 3., 3.],\n",
            "        [3., 3., 3.],\n",
            "        [3., 3., 3.]])\n",
            "tensor([[4., 4., 4.],\n",
            "        [4., 4., 4.],\n",
            "        [4., 4., 4.]])\n",
            "tensor([[1.4142, 1.4142, 1.4142],\n",
            "        [1.4142, 1.4142, 1.4142],\n",
            "        [1.4142, 1.4142, 1.4142]])\n"
          ]
        }
      ],
      "source": [
        "ones = torch.zeros(3, 3) + 1\n",
        "twos = torch.ones(3, 3) * 2\n",
        "threes = (torch.ones(3, 3) * 7 - 1) / 2\n",
        "fours = twos ** 2\n",
        "sqrt2s = twos ** 0.5\n",
        "\n",
        "print(ones)\n",
        "print(twos)\n",
        "print(threes)\n",
        "print(fours)\n",
        "print(sqrt2s)"
      ]
    },
    {
      "cell_type": "code",
      "execution_count": null,
      "metadata": {
        "id": "xe0ObOaQ30b1",
        "colab": {
          "base_uri": "https://localhost:8080/"
        },
        "outputId": "e7e77962-8105-4fae-f347-af952f512491"
      },
      "outputs": [
        {
          "output_type": "stream",
          "name": "stdout",
          "text": [
            "tensor([[ 2.,  4.],\n",
            "        [ 8., 16.]])\n",
            "tensor([[5., 5.],\n",
            "        [5., 5.]])\n",
            "tensor([[12., 12.],\n",
            "        [12., 12.]])\n"
          ]
        }
      ],
      "source": [
        "powers2 = twos ** torch.tensor([[1, 2], [3, 4]])\n",
        "print(powers2)\n",
        "\n",
        "fives = ones + fours\n",
        "print(fives)\n",
        "\n",
        "dozens = threes * fours\n",
        "print(dozens)"
      ]
    },
    {
      "cell_type": "code",
      "execution_count": null,
      "metadata": {
        "id": "3p5UYJEk30b1",
        "colab": {
          "base_uri": "https://localhost:8080/"
        },
        "outputId": "dfcae946-7920-4775-9855-ad86a37b96b6"
      },
      "outputs": [
        {
          "output_type": "stream",
          "name": "stdout",
          "text": [
            "tensor([[0.7437, 0.6747, 0.0886, 0.2174],\n",
            "        [0.0670, 0.9009, 0.5807, 0.6231],\n",
            "        [0.8792, 0.5403, 0.3085, 0.7943],\n",
            "        [0.4347, 0.2111, 0.5156, 0.2642]])\n",
            "tensor([[1.4874, 1.3494, 0.1772, 0.4349],\n",
            "        [0.1339, 1.8019, 1.1615, 1.2461],\n",
            "        [1.7584, 1.0806, 0.6170, 1.5886],\n",
            "        [0.8695, 0.4223, 1.0313, 0.5284]])\n"
          ]
        }
      ],
      "source": [
        "rand = torch.rand(4, 4)\n",
        "doubled = rand * (torch.ones(4, 4) * 2)\n",
        "\n",
        "print(rand)\n",
        "print(doubled)"
      ]
    },
    {
      "cell_type": "code",
      "execution_count": null,
      "metadata": {
        "id": "YIaDhiP630b1",
        "colab": {
          "base_uri": "https://localhost:8080/"
        },
        "outputId": "a1def9bb-c516-4a70-afb3-1baf9f6e28e8"
      },
      "outputs": [
        {
          "output_type": "stream",
          "name": "stdout",
          "text": [
            "tensor([[[0.6945, 0.1708],\n",
            "         [0.9003, 0.0452],\n",
            "         [0.2156, 0.4111]],\n",
            "\n",
            "        [[0.6945, 0.1708],\n",
            "         [0.9003, 0.0452],\n",
            "         [0.2156, 0.4111]],\n",
            "\n",
            "        [[0.6945, 0.1708],\n",
            "         [0.9003, 0.0452],\n",
            "         [0.2156, 0.4111]],\n",
            "\n",
            "        [[0.6945, 0.1708],\n",
            "         [0.9003, 0.0452],\n",
            "         [0.2156, 0.4111]]])\n",
            "tensor([[[0.5625, 0.5625],\n",
            "         [0.5159, 0.5159],\n",
            "         [0.9727, 0.9727]],\n",
            "\n",
            "        [[0.5625, 0.5625],\n",
            "         [0.5159, 0.5159],\n",
            "         [0.9727, 0.9727]],\n",
            "\n",
            "        [[0.5625, 0.5625],\n",
            "         [0.5159, 0.5159],\n",
            "         [0.9727, 0.9727]],\n",
            "\n",
            "        [[0.5625, 0.5625],\n",
            "         [0.5159, 0.5159],\n",
            "         [0.9727, 0.9727]]])\n",
            "tensor([[[0.9469, 0.3236],\n",
            "         [0.9469, 0.3236],\n",
            "         [0.9469, 0.3236]],\n",
            "\n",
            "        [[0.9469, 0.3236],\n",
            "         [0.9469, 0.3236],\n",
            "         [0.9469, 0.3236]],\n",
            "\n",
            "        [[0.9469, 0.3236],\n",
            "         [0.9469, 0.3236],\n",
            "         [0.9469, 0.3236]],\n",
            "\n",
            "        [[0.9469, 0.3236],\n",
            "         [0.9469, 0.3236],\n",
            "         [0.9469, 0.3236]]])\n"
          ]
        }
      ],
      "source": [
        "a =     torch.ones(4, 3, 2)\n",
        "\n",
        "b = a * torch.rand(   3, 2) # 3rd & 2nd dims identical to a, dim 1 absent\n",
        "print(b)\n",
        "\n",
        "c = a * torch.rand(   3, 1) # 3rd dim = 1, 2nd dim identical to a\n",
        "print(c)\n",
        "\n",
        "d = a * torch.rand(   1, 2) # 3rd dim identical to a, 2nd dim = 1\n",
        "print(d)"
      ]
    },
    {
      "cell_type": "code",
      "execution_count": null,
      "metadata": {
        "id": "Mab5pnZy30b2",
        "colab": {
          "base_uri": "https://localhost:8080/"
        },
        "outputId": "01020e7b-61ae-4289-d67e-148a5e8f67af"
      },
      "outputs": [
        {
          "output_type": "stream",
          "name": "stdout",
          "text": [
            "Common functions:\n",
            "tensor([[0.5630, 0.0101, 0.7961, 0.8568],\n",
            "        [0.3354, 0.6368, 0.6308, 0.9061],\n",
            "        [0.2624, 0.9452, 0.5883, 0.1381],\n",
            "        [0.0712, 0.4801, 0.1578, 0.9235]])\n",
            "tensor([[-0., -0., -0., 1.],\n",
            "        [1., 1., -0., 1.],\n",
            "        [1., -0., 1., 1.],\n",
            "        [-0., 1., -0., -0.]])\n",
            "tensor([[-1., -1., -1.,  0.],\n",
            "        [ 0.,  0., -1.,  0.],\n",
            "        [ 0., -1.,  0.,  0.],\n",
            "        [-1.,  0., -1., -1.]])\n",
            "tensor([[-0.5000, -0.0101, -0.5000,  0.5000],\n",
            "        [ 0.3354,  0.5000, -0.5000,  0.5000],\n",
            "        [ 0.2624, -0.5000,  0.5000,  0.1381],\n",
            "        [-0.0712,  0.4801, -0.1578, -0.5000]])\n",
            "\n",
            "Sine and arcsine:\n",
            "tensor([0.0000, 0.7854, 1.5708, 2.3562])\n",
            "tensor([0.0000, 0.7071, 1.0000, 0.7071])\n",
            "tensor([0.0000, 0.7854, 1.5708, 0.7854])\n",
            "\n",
            "Bitwise XOR:\n",
            "tensor([3, 2, 1])\n",
            "\n",
            "Broadcasted, element-wise equality comparison:\n",
            "tensor([[ True, False],\n",
            "        [False, False]])\n",
            "\n",
            "Reduction ops:\n",
            "tensor(4.)\n",
            "4.0\n",
            "tensor(2.5000)\n",
            "tensor(1.2910)\n",
            "tensor(24.)\n",
            "tensor([1, 2])\n",
            "\n",
            "Vectors & Matrices:\n",
            "tensor([ 0.,  0., -1.])\n",
            "tensor([[0.2384, 0.3447],\n",
            "        [0.1485, 0.7547]])\n",
            "tensor([[0.7151, 1.0342],\n",
            "        [0.4456, 2.2642]])\n",
            "torch.return_types.linalg_svd(\n",
            "U=tensor([[ 0.4607,  0.8876],\n",
            "        [ 0.8876, -0.4607]]),\n",
            "S=tensor([2.5896, 0.4473]),\n",
            "Vh=tensor([[ 0.2800,  0.9600],\n",
            "        [ 0.9600, -0.2800]]))\n"
          ]
        }
      ],
      "source": [
        "# common functions\n",
        "a = torch.rand(4, 4) * 2 - 1\n",
        "print('Common functions:')\n",
        "print(torch.abs(a))\n",
        "print(torch.ceil(a))\n",
        "print(torch.floor(a))\n",
        "print(torch.clamp(a, -0.5, 0.5))\n",
        "\n",
        "# trigonometric functions and their inverses\n",
        "angles = torch.tensor([0, math.pi / 4, math.pi / 2, 3 * math.pi / 4])\n",
        "sines = torch.sin(angles)\n",
        "inverses = torch.asin(sines)\n",
        "print('\\nSine and arcsine:')\n",
        "print(angles)\n",
        "print(sines)\n",
        "print(inverses)\n",
        "\n",
        "# bitwise operations\n",
        "print('\\nBitwise XOR:')\n",
        "b = torch.tensor([1, 5, 11])\n",
        "c = torch.tensor([2, 7, 10])\n",
        "print(torch.bitwise_xor(b, c))\n",
        "\n",
        "# comparisons:\n",
        "print('\\nBroadcasted, element-wise equality comparison:')\n",
        "d = torch.tensor([[1., 2.], [3., 4.]])\n",
        "e = torch.ones(1, 2)  # many comparison ops support broadcasting!\n",
        "print(torch.eq(d, e)) # returns a tensor of type bool\n",
        "\n",
        "# reductions:\n",
        "print('\\nReduction ops:')\n",
        "print(torch.max(d))        # returns a single-element tensor\n",
        "print(torch.max(d).item()) # extracts the value from the returned tensor\n",
        "print(torch.mean(d))       # average\n",
        "print(torch.std(d))        # standard deviation\n",
        "print(torch.prod(d))       # product of all numbers\n",
        "print(torch.unique(torch.tensor([1, 2, 1, 2, 1, 2]))) # filter unique elements\n",
        "\n",
        "# vector and linear algebra operations\n",
        "v1 = torch.tensor([1., 0., 0.])         # x unit vector\n",
        "v2 = torch.tensor([0., 1., 0.])         # y unit vector\n",
        "m1 = torch.rand(2, 2)                   # random matrix\n",
        "m2 = torch.tensor([[3., 0.], [0., 3.]]) # three times identity matrix\n",
        "\n",
        "print('\\nVectors & Matrices:')\n",
        "print(torch.linalg.cross(v2, v1)) # negative of z unit vector (v1 x v2 == -v2 x v1)\n",
        "print(m1)\n",
        "m3 = torch.linalg.matmul(m1, m2)\n",
        "print(m3)                  # 3 times m1\n",
        "print(torch.linalg.svd(m3))       # singular value decomposition"
      ]
    },
    {
      "cell_type": "code",
      "execution_count": null,
      "metadata": {
        "id": "c818IxHO30b2",
        "colab": {
          "base_uri": "https://localhost:8080/"
        },
        "outputId": "72339de6-d7d4-46bf-a227-e23fd82c4f13"
      },
      "outputs": [
        {
          "output_type": "stream",
          "name": "stdout",
          "text": [
            "a:\n",
            "tensor([0.0000, 0.7854, 1.5708, 2.3562])\n",
            "tensor([0.0000, 0.7071, 1.0000, 0.7071])\n",
            "tensor([0.0000, 0.7854, 1.5708, 2.3562])\n",
            "\n",
            "b:\n",
            "tensor([0.0000, 0.7854, 1.5708, 2.3562])\n",
            "tensor([0.0000, 0.7071, 1.0000, 0.7071])\n",
            "tensor([0.0000, 0.7071, 1.0000, 0.7071])\n"
          ]
        }
      ],
      "source": [
        "a = torch.tensor([0, math.pi / 4, math.pi / 2, 3 * math.pi / 4])\n",
        "print('a:')\n",
        "print(a)\n",
        "print(torch.sin(a))   # this operation creates a new tensor in memory\n",
        "print(a)              # a has not changed\n",
        "\n",
        "b = torch.tensor([0, math.pi / 4, math.pi / 2, 3 * math.pi / 4])\n",
        "print('\\nb:')\n",
        "print(b)\n",
        "print(torch.sin_(b))  # note the underscore\n",
        "print(b)              # b has changed"
      ]
    },
    {
      "cell_type": "code",
      "execution_count": null,
      "metadata": {
        "id": "XF6LqacE30b2",
        "colab": {
          "base_uri": "https://localhost:8080/"
        },
        "outputId": "6df70433-ce41-4ae6-e8f0-64923320cdb2"
      },
      "outputs": [
        {
          "output_type": "stream",
          "name": "stdout",
          "text": [
            "Before:\n",
            "tensor([[1., 1., 1.],\n",
            "        [1., 1., 1.],\n",
            "        [1., 1., 1.]])\n",
            "tensor([[0.0058, 0.2539, 0.1617],\n",
            "        [0.8262, 0.1439, 0.6643],\n",
            "        [0.5800, 0.0075, 0.4025]])\n",
            "\n",
            "After adding:\n",
            "tensor([[1.0058, 1.2539, 1.1617],\n",
            "        [1.8262, 1.1439, 1.6643],\n",
            "        [1.5800, 1.0075, 1.4025]])\n",
            "tensor([[1.0058, 1.2539, 1.1617],\n",
            "        [1.8262, 1.1439, 1.6643],\n",
            "        [1.5800, 1.0075, 1.4025]])\n",
            "tensor([[0.0058, 0.2539, 0.1617],\n",
            "        [0.8262, 0.1439, 0.6643],\n",
            "        [0.5800, 0.0075, 0.4025]])\n",
            "\n",
            "After multiplying\n",
            "tensor([[3.3946e-05, 6.4486e-02, 2.6145e-02],\n",
            "        [6.8267e-01, 2.0713e-02, 4.4129e-01],\n",
            "        [3.3644e-01, 5.5871e-05, 1.6198e-01]])\n",
            "tensor([[3.3946e-05, 6.4486e-02, 2.6145e-02],\n",
            "        [6.8267e-01, 2.0713e-02, 4.4129e-01],\n",
            "        [3.3644e-01, 5.5871e-05, 1.6198e-01]])\n"
          ]
        }
      ],
      "source": [
        "a = torch.ones(3, 3)\n",
        "b = torch.rand(3, 3)\n",
        "\n",
        "print('Before:')\n",
        "print(a)\n",
        "print(b)\n",
        "print('\\nAfter adding:')\n",
        "print(a.add_(b))\n",
        "print(a)\n",
        "print(b)\n",
        "print('\\nAfter multiplying')\n",
        "print(b.mul_(b))\n",
        "print(b)"
      ]
    },
    {
      "cell_type": "code",
      "execution_count": null,
      "metadata": {
        "id": "6hcbzJ0H30b3",
        "colab": {
          "base_uri": "https://localhost:8080/"
        },
        "outputId": "8d3e7d81-b8c1-4f7e-d4a6-2130439adab8"
      },
      "outputs": [
        {
          "output_type": "stream",
          "name": "stdout",
          "text": [
            "tensor([[0., 0., 0.],\n",
            "        [0., 0., 0.],\n",
            "        [0., 0., 0.]])\n",
            "tensor([[1.1634, 0.5317, 0.6454],\n",
            "        [0.4653, 0.1640, 0.2339],\n",
            "        [1.3296, 0.6024, 0.6095]])\n",
            "tensor([[0.8900, 0.5689],\n",
            "        [0.2614, 0.1646]])\n"
          ]
        }
      ],
      "source": [
        "a = torch.rand(3, 3)\n",
        "b = torch.rand(3, 3)\n",
        "c = torch.zeros(3, 3)\n",
        "old_id = id(c)\n",
        "\n",
        "print(c)\n",
        "d = torch.matmul(a, b, out=c)\n",
        "print(c)                # contents of c have changed\n",
        "\n",
        "assert c is d           # test c & d are same object, not just containing equal values\n",
        "assert id(c) == old_id  # make sure that our new c is the same object as the old one\n",
        "\n",
        "torch.rand(2, 2, out=c) # works for creation too!\n",
        "print(c)                # c has changed again\n",
        "assert id(c) == old_id  # still the same object!"
      ]
    },
    {
      "cell_type": "code",
      "execution_count": null,
      "metadata": {
        "id": "HFm_N3vQ30b3",
        "colab": {
          "base_uri": "https://localhost:8080/"
        },
        "outputId": "fa8cb897-4476-4a80-98f8-a1e81e29bbb4"
      },
      "outputs": [
        {
          "output_type": "stream",
          "name": "stdout",
          "text": [
            "tensor([[  1., 561.,   1.],\n",
            "        [  1.,   1.,   1.],\n",
            "        [  1.,   1.,   1.]])\n"
          ]
        }
      ],
      "source": [
        "a = torch.ones(3, 3)\n",
        "b = a\n",
        "\n",
        "a[0][1] = 561  # we change a...\n",
        "print(b)       # ...and b is also altered"
      ]
    },
    {
      "cell_type": "code",
      "execution_count": null,
      "metadata": {
        "id": "WB-4-vl530b3",
        "colab": {
          "base_uri": "https://localhost:8080/"
        },
        "outputId": "d461ddc4-5112-49e6-b8ce-b6d50590830c"
      },
      "outputs": [
        {
          "output_type": "stream",
          "name": "stdout",
          "text": [
            "tensor([[True, True, True],\n",
            "        [True, True, True],\n",
            "        [True, True, True]])\n",
            "tensor([[1., 1., 1.],\n",
            "        [1., 1., 1.],\n",
            "        [1., 1., 1.]])\n"
          ]
        }
      ],
      "source": [
        "a = torch.ones(3, 3)\n",
        "b = a.clone()\n",
        "\n",
        "assert b is not a      # different objects in memory...\n",
        "print(torch.eq(a, b))  # ...but still with the same contents!\n",
        "\n",
        "a[0][1] = 561          # a changes...\n",
        "print(b)               # ...but b is still all ones"
      ]
    },
    {
      "cell_type": "code",
      "execution_count": null,
      "metadata": {
        "id": "TqH5DBd930b3",
        "colab": {
          "base_uri": "https://localhost:8080/"
        },
        "outputId": "3a0000c9-e263-4c71-cce3-c431dc3a1de9"
      },
      "outputs": [
        {
          "output_type": "stream",
          "name": "stdout",
          "text": [
            "tensor([[0.3126, 0.8403, 0.7595],\n",
            "        [0.3614, 0.3064, 0.7495],\n",
            "        [0.2947, 0.9277, 0.7416]], requires_grad=True)\n",
            "tensor([[0.3126, 0.8403, 0.7595],\n",
            "        [0.3614, 0.3064, 0.7495],\n",
            "        [0.2947, 0.9277, 0.7416]], grad_fn=<CloneBackward0>)\n",
            "tensor([[0.3126, 0.8403, 0.7595],\n",
            "        [0.3614, 0.3064, 0.7495],\n",
            "        [0.2947, 0.9277, 0.7416]])\n",
            "tensor([[0.3126, 0.8403, 0.7595],\n",
            "        [0.3614, 0.3064, 0.7495],\n",
            "        [0.2947, 0.9277, 0.7416]], requires_grad=True)\n"
          ]
        }
      ],
      "source": [
        "a = torch.rand(3, 3, requires_grad=True) # turn on autograd\n",
        "print(a)\n",
        "\n",
        "b = a.clone()\n",
        "print(b)\n",
        "\n",
        "c = a.detach().clone()\n",
        "print(c)\n",
        "\n",
        "print(a)"
      ]
    },
    {
      "cell_type": "code",
      "execution_count": null,
      "metadata": {
        "id": "nVGiqnvj30b4",
        "colab": {
          "base_uri": "https://localhost:8080/"
        },
        "outputId": "856ee283-3e14-4b61-e615-7bf19f8099ed"
      },
      "outputs": [
        {
          "output_type": "stream",
          "name": "stdout",
          "text": [
            "We have an accelerator!\n"
          ]
        }
      ],
      "source": [
        "from accelerate import Accelerator\n",
        "\n",
        "# Create an instance of the Accelerator class\n",
        "accelerator = Accelerator()\n",
        "\n",
        "if accelerator.is_local_main_process:  # Check if the current process is the main process\n",
        "    print('We have an accelerator!')\n",
        "else:\n",
        "    print('Sorry, CPU only.')"
      ]
    },
    {
      "cell_type": "code",
      "execution_count": null,
      "metadata": {
        "id": "LcExPX_u30b4",
        "colab": {
          "base_uri": "https://localhost:8080/"
        },
        "outputId": "8b7531c2-4d6f-4bfa-cc44-38589a3176d2"
      },
      "outputs": [
        {
          "output_type": "stream",
          "name": "stdout",
          "text": [
            "tensor([[0.9403, 0.5304],\n",
            "        [0.8422, 0.3243]])\n"
          ]
        }
      ],
      "source": [
        "if accelerator.is_local_main_process:\n",
        "    # Access the device using the accelerator instance, not through torch\n",
        "    gpu_rand = torch.rand(2, 2, device=accelerator.device)\n",
        "    print(gpu_rand)\n",
        "else:\n",
        "    print('Sorry, CPU only.')"
      ]
    },
    {
      "cell_type": "code",
      "execution_count": null,
      "metadata": {
        "id": "kHFMydzr30b5",
        "colab": {
          "base_uri": "https://localhost:8080/"
        },
        "outputId": "3b12898b-3561-4cb6-da46-7a374f6ce829"
      },
      "outputs": [
        {
          "output_type": "stream",
          "name": "stdout",
          "text": [
            "Device: cpu\n",
            "tensor([[0.7594, 0.5660],\n",
            "        [0.4099, 0.7921]])\n"
          ]
        }
      ],
      "source": [
        "try:\n",
        "    accelerator = Accelerator()  # Try to initialize an Accelerator instance\n",
        "    my_device = accelerator.device  # Get the device from the instance\n",
        "except Exception:  # Handle exceptions if initialization fails\n",
        "    my_device = torch.device('cpu')  # Fallback to CPU\n",
        "\n",
        "print('Device: {}'.format(my_device))\n",
        "\n",
        "x = torch.rand(2, 2, device=my_device)\n",
        "print(x)"
      ]
    },
    {
      "cell_type": "code",
      "execution_count": null,
      "metadata": {
        "id": "c3Y7Q65V30b5"
      },
      "outputs": [],
      "source": [
        "y = torch.rand(3, 3)\n",
        "y = y.to(my_device)"
      ]
    },
    {
      "cell_type": "code",
      "execution_count": null,
      "metadata": {
        "id": "1sHiOSGs30b5",
        "colab": {
          "base_uri": "https://localhost:8080/"
        },
        "outputId": "17032b74-7e64-4cb5-a06f-0b10e4b3ab71"
      },
      "outputs": [
        {
          "output_type": "stream",
          "name": "stdout",
          "text": [
            "torch.Size([5, 226, 226])\n",
            "torch.Size([1, 5, 226, 226])\n"
          ]
        }
      ],
      "source": [
        "a = torch.rand(5, 226, 226)\n",
        "b = a.unsqueeze(0)\n",
        "\n",
        "print(a.shape)\n",
        "print(b.shape)"
      ]
    },
    {
      "cell_type": "code",
      "execution_count": null,
      "metadata": {
        "id": "fa49fvbQ30b5",
        "colab": {
          "base_uri": "https://localhost:8080/"
        },
        "outputId": "5fcd34d1-c3ea-4aa9-cb01-7dea005e0963"
      },
      "outputs": [
        {
          "output_type": "stream",
          "name": "stdout",
          "text": [
            "tensor([[[[[0.3365]]]]])\n"
          ]
        }
      ],
      "source": [
        "c = torch.rand(1, 1, 1, 1, 1)\n",
        "print(c)"
      ]
    },
    {
      "cell_type": "code",
      "execution_count": null,
      "metadata": {
        "id": "CiAjcOUL30b5",
        "colab": {
          "base_uri": "https://localhost:8080/"
        },
        "outputId": "3e4463c6-e0e8-4448-fdf5-30035253b577"
      },
      "outputs": [
        {
          "output_type": "stream",
          "name": "stdout",
          "text": [
            "torch.Size([1, 20])\n",
            "tensor([[0.3838, 0.9663, 0.6353, 0.0635, 0.2541, 0.5375, 0.5849, 0.7915, 0.7148,\n",
            "         0.0677, 0.3850, 0.2712, 0.8175, 0.4374, 0.3113, 0.7117, 0.2761, 0.1595,\n",
            "         0.3660, 0.0787]])\n",
            "torch.Size([20])\n",
            "tensor([0.3838, 0.9663, 0.6353, 0.0635, 0.2541, 0.5375, 0.5849, 0.7915, 0.7148,\n",
            "        0.0677, 0.3850, 0.2712, 0.8175, 0.4374, 0.3113, 0.7117, 0.2761, 0.1595,\n",
            "        0.3660, 0.0787])\n",
            "torch.Size([2, 2])\n",
            "torch.Size([2, 2])\n"
          ]
        }
      ],
      "source": [
        "a = torch.rand(1, 20)\n",
        "print(a.shape)\n",
        "print(a)\n",
        "\n",
        "b = a.squeeze(0)\n",
        "print(b.shape)\n",
        "print(b)\n",
        "\n",
        "c = torch.rand(2, 2)\n",
        "print(c.shape)\n",
        "\n",
        "d = c.squeeze(0)\n",
        "print(d.shape)"
      ]
    },
    {
      "cell_type": "code",
      "execution_count": null,
      "metadata": {
        "id": "FJxRW1RI30b5",
        "colab": {
          "base_uri": "https://localhost:8080/"
        },
        "outputId": "5bf6a041-400f-42b3-804a-3c90bfade04a"
      },
      "outputs": [
        {
          "output_type": "stream",
          "name": "stdout",
          "text": [
            "torch.Size([3, 1])\n",
            "tensor([[[0.9535, 0.9535],\n",
            "         [0.6992, 0.6992],\n",
            "         [0.7981, 0.7981]],\n",
            "\n",
            "        [[0.9535, 0.9535],\n",
            "         [0.6992, 0.6992],\n",
            "         [0.7981, 0.7981]],\n",
            "\n",
            "        [[0.9535, 0.9535],\n",
            "         [0.6992, 0.6992],\n",
            "         [0.7981, 0.7981]],\n",
            "\n",
            "        [[0.9535, 0.9535],\n",
            "         [0.6992, 0.6992],\n",
            "         [0.7981, 0.7981]],\n",
            "\n",
            "        [[0.9535, 0.9535],\n",
            "         [0.6992, 0.6992],\n",
            "         [0.7981, 0.7981]]])\n"
          ]
        }
      ],
      "source": [
        "a = torch.ones(5, 3, 2)\n",
        "b = torch.rand(   3)     # trying to multiply a * b will give a runtime error\n",
        "c = b.unsqueeze(1)       # change to a 2-dimensional tensor, adding new dim at the end\n",
        "print(c.shape)\n",
        "print(a * c)             # broadcasting works again!"
      ]
    },
    {
      "cell_type": "code",
      "execution_count": null,
      "metadata": {
        "id": "hKrjqJLx30b6",
        "colab": {
          "base_uri": "https://localhost:8080/"
        },
        "outputId": "a2662bac-bdea-4e42-a262-4c5dd7b15104"
      },
      "outputs": [
        {
          "output_type": "stream",
          "name": "stdout",
          "text": [
            "torch.Size([5, 226, 226])\n",
            "torch.Size([1, 5, 226, 226])\n"
          ]
        }
      ],
      "source": [
        "batch_me = torch.rand(5, 226, 226)\n",
        "print(batch_me.shape)\n",
        "batch_me.unsqueeze_(0)\n",
        "print(batch_me.shape)"
      ]
    },
    {
      "cell_type": "code",
      "execution_count": null,
      "metadata": {
        "id": "tAbG89zI30b6",
        "colab": {
          "base_uri": "https://localhost:8080/"
        },
        "outputId": "84de736b-58f0-46dc-ea4d-e2ccd46bc35d"
      },
      "outputs": [
        {
          "output_type": "stream",
          "name": "stdout",
          "text": [
            "torch.Size([3, 10, 10])\n",
            "torch.Size([300])\n",
            "torch.Size([300])\n"
          ]
        }
      ],
      "source": [
        "output3d = torch.rand(3, 10, 10)\n",
        "print(output3d.shape)\n",
        "\n",
        "input1d = output3d.reshape(3* 10 * 10)\n",
        "print(input1d.shape)\n",
        "\n",
        "# can also call it as a method on the torch module:\n",
        "print(torch.reshape(output3d, (3 * 10 * 10,)).shape)"
      ]
    },
    {
      "cell_type": "code",
      "execution_count": null,
      "metadata": {
        "id": "5srfMr7530b6",
        "colab": {
          "base_uri": "https://localhost:8080/"
        },
        "outputId": "3b84a752-1f80-408a-c299-32940bbacaa4"
      },
      "outputs": [
        {
          "output_type": "stream",
          "name": "stdout",
          "text": [
            "[[1. 1. 1.]\n",
            " [1. 1. 1.]\n",
            " [1. 1. 1.]]\n",
            "tensor([[1., 1., 1.],\n",
            "        [1., 1., 1.],\n",
            "        [1., 1., 1.]], dtype=torch.float64)\n"
          ]
        }
      ],
      "source": [
        "numpy_array = np.ones((3, 3))\n",
        "print(numpy_array)\n",
        "\n",
        "pytorch_tensor = torch.from_numpy(numpy_array)\n",
        "print(pytorch_tensor)"
      ]
    },
    {
      "cell_type": "code",
      "execution_count": null,
      "metadata": {
        "id": "3O4vtF6E30b6",
        "colab": {
          "base_uri": "https://localhost:8080/"
        },
        "outputId": "a0eb085e-2615-4583-fdb3-6e1d0ac5cfb7"
      },
      "outputs": [
        {
          "output_type": "stream",
          "name": "stdout",
          "text": [
            "tensor([[0.6842, 0.9540, 0.2109],\n",
            "        [0.3185, 0.3638, 0.0247],\n",
            "        [0.9862, 0.8592, 0.1793]])\n",
            "[[0.68419355 0.9540339  0.21091664]\n",
            " [0.3185122  0.36379594 0.02469784]\n",
            " [0.98617536 0.85919887 0.1793409 ]]\n"
          ]
        }
      ],
      "source": [
        "pytorch_rand = torch.rand(3, 3)\n",
        "print(pytorch_rand)\n",
        "\n",
        "numpy_rand = pytorch_rand.numpy()\n",
        "print(numpy_rand)"
      ]
    },
    {
      "cell_type": "code",
      "execution_count": null,
      "metadata": {
        "id": "eGLtoMb430b6",
        "colab": {
          "base_uri": "https://localhost:8080/"
        },
        "outputId": "85cce2c7-408c-4a53-c62a-3b99e0022a6b"
      },
      "outputs": [
        {
          "output_type": "stream",
          "name": "stdout",
          "text": [
            "tensor([[ 1.,  1.,  1.],\n",
            "        [ 1., 25.,  1.],\n",
            "        [ 1.,  1.,  1.]], dtype=torch.float64)\n",
            "[[ 0.68419355  0.9540339   0.21091664]\n",
            " [ 0.3185122  15.          0.02469784]\n",
            " [ 0.98617536  0.85919887  0.1793409 ]]\n"
          ]
        }
      ],
      "source": [
        "numpy_array[1, 1] = 25\n",
        "print(pytorch_tensor)\n",
        "\n",
        "pytorch_rand[1, 1] = 15\n",
        "print(numpy_rand)"
      ]
    },
    {
      "cell_type": "code",
      "execution_count": null,
      "metadata": {
        "id": "asQnWnIA4jNz",
        "colab": {
          "base_uri": "https://localhost:8080/"
        },
        "outputId": "a67c2e11-4aa9-4499-93e3-6d6571abbef5"
      },
      "outputs": [
        {
          "output_type": "stream",
          "name": "stdout",
          "text": [
            "tensor([0.0000, 0.2618, 0.5236, 0.7854, 1.0472, 1.3090, 1.5708, 1.8326, 2.0944,\n",
            "        2.3562, 2.6180, 2.8798, 3.1416, 3.4034, 3.6652, 3.9270, 4.1888, 4.4506,\n",
            "        4.7124, 4.9742, 5.2360, 5.4978, 5.7596, 6.0214, 6.2832],\n",
            "       requires_grad=True)\n"
          ]
        }
      ],
      "source": [
        "a = torch.linspace(0., 2. * math.pi, steps=25, requires_grad=True)\n",
        "print(a)"
      ]
    },
    {
      "cell_type": "code",
      "execution_count": null,
      "metadata": {
        "id": "0W8B5UPu4jNz",
        "colab": {
          "base_uri": "https://localhost:8080/",
          "height": 447
        },
        "outputId": "842581ab-4732-4c32-b2be-4938701f4a4f"
      },
      "outputs": [
        {
          "output_type": "execute_result",
          "data": {
            "text/plain": [
              "[<matplotlib.lines.Line2D at 0x7e66e05f5d50>]"
            ]
          },
          "metadata": {},
          "execution_count": 43
        },
        {
          "output_type": "display_data",
          "data": {
            "text/plain": [
              "<Figure size 640x480 with 1 Axes>"
            ],
            "image/png": "[encoded data removed]"
          },
          "metadata": {}
        }
      ],
      "source": [
        "b = torch.sin(a)\n",
        "plt.plot(a.detach(), b.detach())"
      ]
    },
    {
      "cell_type": "code",
      "execution_count": null,
      "metadata": {
        "id": "7I8gIIYC4jNz",
        "colab": {
          "base_uri": "https://localhost:8080/"
        },
        "outputId": "cabe5476-f0ec-4eff-8893-7be9b8bd625a"
      },
      "outputs": [
        {
          "output_type": "stream",
          "name": "stdout",
          "text": [
            "tensor([ 0.0000e+00,  2.5882e-01,  5.0000e-01,  7.0711e-01,  8.6603e-01,\n",
            "         9.6593e-01,  1.0000e+00,  9.6593e-01,  8.6603e-01,  7.0711e-01,\n",
            "         5.0000e-01,  2.5882e-01, -8.7423e-08, -2.5882e-01, -5.0000e-01,\n",
            "        -7.0711e-01, -8.6603e-01, -9.6593e-01, -1.0000e+00, -9.6593e-01,\n",
            "        -8.6603e-01, -7.0711e-01, -5.0000e-01, -2.5882e-01,  1.7485e-07],\n",
            "       grad_fn=<SinBackward0>)\n"
          ]
        }
      ],
      "source": [
        "print(b)"
      ]
    },
    {
      "cell_type": "code",
      "execution_count": null,
      "metadata": {
        "id": "hD8SLJ124jNz",
        "colab": {
          "base_uri": "https://localhost:8080/"
        },
        "outputId": "f9de30f4-7ccb-4244-8a5a-9cdd1958cf97"
      },
      "outputs": [
        {
          "output_type": "stream",
          "name": "stdout",
          "text": [
            "tensor([ 0.0000e+00,  5.1764e-01,  1.0000e+00,  1.4142e+00,  1.7321e+00,\n",
            "         1.9319e+00,  2.0000e+00,  1.9319e+00,  1.7321e+00,  1.4142e+00,\n",
            "         1.0000e+00,  5.1764e-01, -1.7485e-07, -5.1764e-01, -1.0000e+00,\n",
            "        -1.4142e+00, -1.7321e+00, -1.9319e+00, -2.0000e+00, -1.9319e+00,\n",
            "        -1.7321e+00, -1.4142e+00, -1.0000e+00, -5.1764e-01,  3.4969e-07],\n",
            "       grad_fn=<MulBackward0>)\n",
            "tensor([ 1.0000e+00,  1.5176e+00,  2.0000e+00,  2.4142e+00,  2.7321e+00,\n",
            "         2.9319e+00,  3.0000e+00,  2.9319e+00,  2.7321e+00,  2.4142e+00,\n",
            "         2.0000e+00,  1.5176e+00,  1.0000e+00,  4.8236e-01, -3.5763e-07,\n",
            "        -4.1421e-01, -7.3205e-01, -9.3185e-01, -1.0000e+00, -9.3185e-01,\n",
            "        -7.3205e-01, -4.1421e-01,  4.7684e-07,  4.8236e-01,  1.0000e+00],\n",
            "       grad_fn=<AddBackward0>)\n"
          ]
        }
      ],
      "source": [
        "c = 2 * b\n",
        "print(c)\n",
        "\n",
        "d = c + 1\n",
        "print(d)"
      ]
    },
    {
      "cell_type": "code",
      "execution_count": null,
      "metadata": {
        "id": "2HGVNcjB4jN0",
        "colab": {
          "base_uri": "https://localhost:8080/"
        },
        "outputId": "d0daee66-7831-4ad0-ae39-a79a74b95a1f"
      },
      "outputs": [
        {
          "output_type": "stream",
          "name": "stdout",
          "text": [
            "tensor(25., grad_fn=<SumBackward0>)\n"
          ]
        }
      ],
      "source": [
        "out = d.sum()\n",
        "print(out)"
      ]
    },
    {
      "cell_type": "code",
      "execution_count": null,
      "metadata": {
        "id": "zoEOuN534jN0",
        "colab": {
          "base_uri": "https://localhost:8080/"
        },
        "outputId": "23f3e2ff-4358-45ea-ce7a-b5ab5a27c003"
      },
      "outputs": [
        {
          "output_type": "stream",
          "name": "stdout",
          "text": [
            "d:\n",
            "<AddBackward0 object at 0x7e66e291a110>\n",
            "((<MulBackward0 object at 0x7e66e174bf40>, 0), (None, 0))\n",
            "((<SinBackward0 object at 0x7e66e291a110>, 0), (None, 0))\n",
            "((<AccumulateGrad object at 0x7e66e04c29b0>, 0),)\n",
            "()\n",
            "\n",
            "c:\n",
            "<MulBackward0 object at 0x7e66e04c3280>\n",
            "\n",
            "b:\n",
            "<SinBackward0 object at 0x7e66e04c3280>\n",
            "\n",
            "a:\n",
            "None\n"
          ]
        }
      ],
      "source": [
        "print('d:')\n",
        "print(d.grad_fn)\n",
        "print(d.grad_fn.next_functions)\n",
        "print(d.grad_fn.next_functions[0][0].next_functions)\n",
        "print(d.grad_fn.next_functions[0][0].next_functions[0][0].next_functions)\n",
        "print(d.grad_fn.next_functions[0][0].next_functions[0][0].next_functions[0][0].next_functions)\n",
        "print('\\nc:')\n",
        "print(c.grad_fn)\n",
        "print('\\nb:')\n",
        "print(b.grad_fn)\n",
        "print('\\na:')\n",
        "print(a.grad_fn)"
      ]
    },
    {
      "cell_type": "code",
      "execution_count": null,
      "metadata": {
        "id": "xGVLEabk4jN0",
        "colab": {
          "base_uri": "https://localhost:8080/",
          "height": 532
        },
        "outputId": "1fac45d1-aa37-4b8c-8975-5aad58254edb"
      },
      "outputs": [
        {
          "output_type": "stream",
          "name": "stdout",
          "text": [
            "tensor([ 2.0000e+00,  1.9319e+00,  1.7321e+00,  1.4142e+00,  1.0000e+00,\n",
            "         5.1764e-01, -8.7423e-08, -5.1764e-01, -1.0000e+00, -1.4142e+00,\n",
            "        -1.7321e+00, -1.9319e+00, -2.0000e+00, -1.9319e+00, -1.7321e+00,\n",
            "        -1.4142e+00, -1.0000e+00, -5.1764e-01,  2.3850e-08,  5.1764e-01,\n",
            "         1.0000e+00,  1.4142e+00,  1.7321e+00,  1.9319e+00,  2.0000e+00])\n"
          ]
        },
        {
          "output_type": "execute_result",
          "data": {
            "text/plain": [
              "[<matplotlib.lines.Line2D at 0x7e66e048fdd0>]"
            ]
          },
          "metadata": {},
          "execution_count": 48
        },
        {
          "output_type": "display_data",
          "data": {
            "text/plain": [
              "<Figure size 640x480 with 1 Axes>"
            ],
            "image/png": "[encoded data removed]"
          },
          "metadata": {}
        }
      ],
      "source": [
        "out.backward()\n",
        "print(a.grad)\n",
        "plt.plot(a.detach(), a.grad.detach())"
      ]
    },
    {
      "cell_type": "code",
      "execution_count": null,
      "metadata": {
        "id": "aR4WiiPZ4jN0"
      },
      "outputs": [],
      "source": [
        "BATCH_SIZE = 32\n",
        "DIM_IN = 500\n",
        "HIDDEN_SIZE = 200\n",
        "DIM_OUT = 5\n",
        "\n",
        "class TinyModel(torch.nn.Module):\n",
        "\n",
        "    def __init__(self):\n",
        "        super(TinyModel, self).__init__()\n",
        "\n",
        "        self.layer1 = torch.nn.Linear(DIM_IN, HIDDEN_SIZE)\n",
        "        self.relu = torch.nn.ReLU()\n",
        "        self.layer2 = torch.nn.Linear(HIDDEN_SIZE, DIM_OUT)\n",
        "\n",
        "    def forward(self, x):\n",
        "        x = self.layer1(x)\n",
        "        x = self.relu(x)\n",
        "        x = self.layer2(x)\n",
        "        return x\n",
        "\n",
        "some_input = torch.randn(BATCH_SIZE, DIM_IN, requires_grad=False)\n",
        "ideal_output = torch.randn(BATCH_SIZE, DIM_OUT, requires_grad=False)\n",
        "\n",
        "model = TinyModel()"
      ]
    },
    {
      "cell_type": "code",
      "execution_count": null,
      "metadata": {
        "id": "nJhVdnCT4jN1",
        "colab": {
          "base_uri": "https://localhost:8080/"
        },
        "outputId": "aa29e8ba-7907-49f5-8b68-fb1b1a0718a2"
      },
      "outputs": [
        {
          "output_type": "stream",
          "name": "stdout",
          "text": [
            "tensor([-0.0009, -0.0425,  0.0496,  0.0434, -0.0094, -0.0054, -0.0397,  0.0198,\n",
            "         0.0643,  0.0038], grad_fn=<SliceBackward0>)\n",
            "None\n"
          ]
        }
      ],
      "source": [
        "print(model.layer2.weight[0][0:10]) # just a small slice\n",
        "print(model.layer2.weight.grad)"
      ]
    },
    {
      "cell_type": "code",
      "execution_count": null,
      "metadata": {
        "id": "P1-EO7Kw4jN1",
        "colab": {
          "base_uri": "https://localhost:8080/"
        },
        "outputId": "656b1e42-f327-465f-f4b5-cbd35171b3cd"
      },
      "outputs": [
        {
          "output_type": "stream",
          "name": "stdout",
          "text": [
            "tensor(197.3774, grad_fn=<SumBackward0>)\n"
          ]
        }
      ],
      "source": [
        "optimizer = torch.optim.SGD(model.parameters(), lr=0.002)\n",
        "\n",
        "prediction = model(some_input)\n",
        "\n",
        "loss = (ideal_output - prediction).pow(2).sum()\n",
        "print(loss)"
      ]
    },
    {
      "cell_type": "code",
      "execution_count": null,
      "metadata": {
        "id": "BIYG7Mbj4jN1",
        "colab": {
          "base_uri": "https://localhost:8080/"
        },
        "outputId": "a40f2a54-2bd7-499d-b02e-ec97e0015cd9"
      },
      "outputs": [
        {
          "output_type": "stream",
          "name": "stdout",
          "text": [
            "tensor([-0.0009, -0.0425,  0.0496,  0.0434, -0.0094, -0.0054, -0.0397,  0.0198,\n",
            "         0.0643,  0.0038], grad_fn=<SliceBackward0>)\n",
            "tensor([ -5.1145,  -2.7967, -23.6815,  -7.1044,  -2.6472,  -3.2701,   1.2222,\n",
            "         -4.8154,   0.4687,  -6.5293])\n"
          ]
        }
      ],
      "source": [
        "loss.backward()\n",
        "print(model.layer2.weight[0][0:10])\n",
        "print(model.layer2.weight.grad[0][0:10])"
      ]
    },
    {
      "cell_type": "code",
      "execution_count": null,
      "metadata": {
        "id": "mbKhusk34jN1",
        "colab": {
          "base_uri": "https://localhost:8080/"
        },
        "outputId": "6aab53ed-7f4a-4e69-ddd3-36cb5244dc3b"
      },
      "outputs": [
        {
          "output_type": "stream",
          "name": "stdout",
          "text": [
            "tensor([ 0.0093, -0.0369,  0.0970,  0.0576, -0.0041,  0.0011, -0.0421,  0.0294,\n",
            "         0.0634,  0.0168], grad_fn=<SliceBackward0>)\n",
            "tensor([ -5.1145,  -2.7967, -23.6815,  -7.1044,  -2.6472,  -3.2701,   1.2222,\n",
            "         -4.8154,   0.4687,  -6.5293])\n"
          ]
        }
      ],
      "source": [
        "optimizer.step()\n",
        "print(model.layer2.weight[0][0:10])\n",
        "print(model.layer2.weight.grad[0][0:10])"
      ]
    },
    {
      "cell_type": "code",
      "execution_count": null,
      "metadata": {
        "id": "Lg1qg-tq4jN1",
        "colab": {
          "base_uri": "https://localhost:8080/"
        },
        "outputId": "76f47a2f-47de-4743-dc26-600c2ea27089"
      },
      "outputs": [
        {
          "output_type": "stream",
          "name": "stdout",
          "text": [
            "tensor([ -5.1145,  -2.7967, -23.6815,  -7.1044,  -2.6472,  -3.2701,   1.2222,\n",
            "         -4.8154,   0.4687,  -6.5293])\n",
            "tensor([  8.7573,  61.4896, -62.3282,  -3.5404,   9.6405,  24.5678,  42.7721,\n",
            "          6.7571,  17.2430,   9.6788])\n",
            "tensor([0., 0., 0., 0., 0., 0., 0., 0., 0., 0.])\n"
          ]
        }
      ],
      "source": [
        "print(model.layer2.weight.grad[0][0:10])\n",
        "\n",
        "for i in range(0, 5):\n",
        "    prediction = model(some_input)\n",
        "    loss = (ideal_output - prediction).pow(2).sum()\n",
        "    loss.backward()\n",
        "\n",
        "print(model.layer2.weight.grad[0][0:10])\n",
        "\n",
        "optimizer.zero_grad(set_to_none=False)\n",
        "\n",
        "print(model.layer2.weight.grad[0][0:10])"
      ]
    },
    {
      "cell_type": "code",
      "execution_count": null,
      "metadata": {
        "id": "cUxBi_oU4jN1",
        "colab": {
          "base_uri": "https://localhost:8080/"
        },
        "outputId": "ab3617d5-d8a9-48b0-fc4a-3d38b304c9bc"
      },
      "outputs": [
        {
          "output_type": "stream",
          "name": "stdout",
          "text": [
            "tensor([[1., 1., 1.],\n",
            "        [1., 1., 1.],\n",
            "        [1., 1., 1.]], requires_grad=True)\n",
            "tensor([[2., 2., 2.],\n",
            "        [2., 2., 2.],\n",
            "        [2., 2., 2.]], grad_fn=<MulBackward0>)\n",
            "tensor([[2., 2., 2.],\n",
            "        [2., 2., 2.],\n",
            "        [2., 2., 2.]])\n"
          ]
        }
      ],
      "source": [
        "a = torch.ones(3, 3, requires_grad=True)\n",
        "print(a)\n",
        "\n",
        "b1 = 2 * a\n",
        "print(b1)\n",
        "\n",
        "a.requires_grad = False\n",
        "b2 = 2 * a\n",
        "print(b2)"
      ]
    },
    {
      "cell_type": "code",
      "execution_count": null,
      "metadata": {
        "id": "bk-DLV2h4jN2",
        "colab": {
          "base_uri": "https://localhost:8080/"
        },
        "outputId": "a5933bf8-2b00-4469-bad1-b926a1d39898"
      },
      "outputs": [
        {
          "output_type": "stream",
          "name": "stdout",
          "text": [
            "tensor([[5., 5., 5.],\n",
            "        [5., 5., 5.],\n",
            "        [5., 5., 5.]], grad_fn=<AddBackward0>)\n",
            "tensor([[5., 5., 5.],\n",
            "        [5., 5., 5.],\n",
            "        [5., 5., 5.]])\n",
            "tensor([[6., 6., 6.],\n",
            "        [6., 6., 6.],\n",
            "        [6., 6., 6.]], grad_fn=<MulBackward0>)\n"
          ]
        }
      ],
      "source": [
        "a = torch.ones(3, 3, requires_grad=True) * 2\n",
        "b = torch.ones(3, 3, requires_grad=True) * 3\n",
        "\n",
        "c1 = a + b\n",
        "print(c1)\n",
        "\n",
        "with torch.no_grad():\n",
        "    c2 = a + b\n",
        "\n",
        "print(c2)\n",
        "\n",
        "c3 = a * b\n",
        "print(c3)"
      ]
    },
    {
      "cell_type": "code",
      "execution_count": null,
      "metadata": {
        "id": "qLrOEiUp4jN2",
        "colab": {
          "base_uri": "https://localhost:8080/"
        },
        "outputId": "41c953cb-dd3d-497a-dae1-4f1b92da8d8f"
      },
      "outputs": [
        {
          "output_type": "stream",
          "name": "stdout",
          "text": [
            "tensor([[5., 5., 5.],\n",
            "        [5., 5., 5.],\n",
            "        [5., 5., 5.]], grad_fn=<AddBackward0>)\n",
            "tensor([[5., 5., 5.],\n",
            "        [5., 5., 5.],\n",
            "        [5., 5., 5.]])\n"
          ]
        }
      ],
      "source": [
        "def add_tensors1(x, y):\n",
        "    return x + y\n",
        "\n",
        "@torch.no_grad()\n",
        "def add_tensors2(x, y):\n",
        "    return x + y\n",
        "\n",
        "\n",
        "a = torch.ones(3, 3, requires_grad=True) * 2\n",
        "b = torch.ones(3, 3, requires_grad=True) * 3\n",
        "\n",
        "c1 = add_tensors1(a, b)\n",
        "print(c1)\n",
        "\n",
        "c2 = add_tensors2(a, b)\n",
        "print(c2)"
      ]
    },
    {
      "cell_type": "code",
      "execution_count": null,
      "metadata": {
        "id": "OmOx9V-B4jN2",
        "colab": {
          "base_uri": "https://localhost:8080/"
        },
        "outputId": "5db90809-23b0-4125-a835-3803ac8cec67"
      },
      "outputs": [
        {
          "output_type": "stream",
          "name": "stdout",
          "text": [
            "tensor([0.9862, 0.1820, 0.1310, 0.6427, 0.9905, 0.7138], requires_grad=True)\n",
            "tensor([0.9862, 0.1820, 0.1310, 0.6427, 0.9905, 0.7138])\n"
          ]
        }
      ],
      "source": [
        "x = torch.rand(6, requires_grad=True)\n",
        "y = x.detach()\n",
        "\n",
        "print(x)\n",
        "print(y)"
      ]
    },
    {
      "cell_type": "code",
      "execution_count": null,
      "metadata": {
        "id": "9vsCwGOd4jN3",
        "colab": {
          "base_uri": "https://localhost:8080/"
        },
        "outputId": "08313787-313b-4008-d269-f9a3b9e9fb1b"
      },
      "outputs": [
        {
          "output_type": "stream",
          "name": "stdout",
          "text": [
            "-------------  ------------  ------------  ------------  ------------  ------------  ------------  \n",
            "         Name    Self CPU %      Self CPU   CPU total %     CPU total  CPU time avg    # of Calls  \n",
            "-------------  ------------  ------------  ------------  ------------  ------------  ------------  \n",
            "    aten::div        50.62%       3.063ms        50.62%       3.063ms       3.063us          1000  \n",
            "    aten::mul        49.38%       2.987ms        49.38%       2.987ms       2.987us          1000  \n",
            "-------------  ------------  ------------  ------------  ------------  ------------  ------------  \n",
            "Self CPU time total: 6.050ms\n",
            "\n"
          ]
        }
      ],
      "source": [
        "device = torch.device('cpu')\n",
        "run_on_gpu = False\n",
        "if torch.cuda.is_available():\n",
        "    device = torch.device('cuda')\n",
        "    run_on_gpu = True\n",
        "\n",
        "x = torch.randn(2, 3, requires_grad=True)\n",
        "y = torch.rand(2, 3, requires_grad=True)\n",
        "z = torch.ones(2, 3, requires_grad=True)\n",
        "\n",
        "with torch.autograd.profiler.profile(use_cuda=run_on_gpu) as prf:\n",
        "    for _ in range(1000):\n",
        "        z = (z / x) * y\n",
        "\n",
        "print(prf.key_averages().table(sort_by='self_cpu_time_total'))"
      ]
    },
    {
      "cell_type": "code",
      "execution_count": null,
      "metadata": {
        "id": "CD-J9XC-4jN3",
        "colab": {
          "base_uri": "https://localhost:8080/"
        },
        "outputId": "ceda52f2-9202-4d9a-89a9-e4bfe8a3ebde"
      },
      "outputs": [
        {
          "output_type": "stream",
          "name": "stdout",
          "text": [
            "tensor([-891.0880, -456.8753,  188.4956], grad_fn=<MulBackward0>)\n"
          ]
        }
      ],
      "source": [
        "x = torch.randn(3, requires_grad=True)\n",
        "\n",
        "y = x * 2\n",
        "while y.data.norm() < 1000:\n",
        "    y = y * 2\n",
        "\n",
        "print(y)"
      ]
    },
    {
      "cell_type": "code",
      "execution_count": null,
      "metadata": {
        "id": "s93-cgGe4jN4",
        "colab": {
          "base_uri": "https://localhost:8080/"
        },
        "outputId": "f3a06533-94bf-4c61-e67a-90a0e4eb574d"
      },
      "outputs": [
        {
          "output_type": "stream",
          "name": "stdout",
          "text": [
            "tensor([5.1200e+01, 5.1200e+02, 5.1200e-02])\n"
          ]
        }
      ],
      "source": [
        "v = torch.tensor([0.1, 1.0, 0.0001], dtype=torch.float) # stand-in for gradients\n",
        "y.backward(v)\n",
        "\n",
        "print(x.grad)"
      ]
    },
    {
      "cell_type": "code",
      "execution_count": null,
      "metadata": {
        "id": "wxzxPqRe4jN4",
        "colab": {
          "base_uri": "https://localhost:8080/"
        },
        "outputId": "45d89a47-dff9-4646-d121-65ac915acaae"
      },
      "outputs": [
        {
          "output_type": "stream",
          "name": "stdout",
          "text": [
            "(tensor([0.1943]), tensor([0.1031]))\n"
          ]
        },
        {
          "output_type": "execute_result",
          "data": {
            "text/plain": [
              "(tensor([[2.4290]]), tensor([[3.]]))"
            ]
          },
          "metadata": {},
          "execution_count": 67
        }
      ],
      "source": [
        "def exp_adder(x, y):\n",
        "    return 2 * x.exp() + 3 * y\n",
        "\n",
        "inputs = (torch.rand(1), torch.rand(1)) # arguments for the function\n",
        "print(inputs)\n",
        "torch.autograd.functional.jacobian(exp_adder, inputs)"
      ]
    },
    {
      "cell_type": "code",
      "execution_count": null,
      "metadata": {
        "id": "nsfegJDA4jN4",
        "colab": {
          "base_uri": "https://localhost:8080/"
        },
        "outputId": "a1cc6719-7a1c-4cd8-b439-925966dd9bc6"
      },
      "outputs": [
        {
          "output_type": "stream",
          "name": "stdout",
          "text": [
            "(tensor([0.9632, 0.3582, 0.8339]), tensor([0.7488, 0.8035, 0.8859]))\n"
          ]
        },
        {
          "output_type": "execute_result",
          "data": {
            "text/plain": [
              "(tensor([[5.2402, 0.0000, 0.0000],\n",
              "         [0.0000, 2.8616, 0.0000],\n",
              "         [0.0000, 0.0000, 4.6045]]),\n",
              " tensor([[3., 0., 0.],\n",
              "         [0., 3., 0.],\n",
              "         [0., 0., 3.]]))"
            ]
          },
          "metadata": {},
          "execution_count": 68
        }
      ],
      "source": [
        "inputs = (torch.rand(3), torch.rand(3)) # arguments for the function\n",
        "print(inputs)\n",
        "torch.autograd.functional.jacobian(exp_adder, inputs)"
      ]
    },
    {
      "cell_type": "code",
      "execution_count": null,
      "metadata": {
        "id": "xzfJPWRz4jN4",
        "colab": {
          "base_uri": "https://localhost:8080/"
        },
        "outputId": "b3c29028-17f6-4d57-85b2-b753cc0bcda4"
      },
      "outputs": [
        {
          "output_type": "execute_result",
          "data": {
            "text/plain": [
              "(tensor([-450.1254,  385.4225, -836.5654]),\n",
              " tensor([5.1200e+01, 5.1200e+02, 5.1200e-02]))"
            ]
          },
          "metadata": {},
          "execution_count": 69
        }
      ],
      "source": [
        "def do_some_doubling(x):\n",
        "    y = x * 2\n",
        "    while y.data.norm() < 1000:\n",
        "        y = y * 2\n",
        "    return y\n",
        "\n",
        "inputs = torch.randn(3)\n",
        "my_gradients = torch.tensor([0.1, 1.0, 0.0001])\n",
        "torch.autograd.functional.vjp(do_some_doubling, inputs, v=my_gradients)"
      ]
    },
    {
      "cell_type": "code",
      "execution_count": null,
      "metadata": {
        "id": "_DutXbRl5cRW",
        "colab": {
          "base_uri": "https://localhost:8080/"
        },
        "outputId": "c6af8ef8-ed17-4f03-f5af-32417ef3e814"
      },
      "outputs": [
        {
          "output_type": "stream",
          "name": "stdout",
          "text": [
            "The model:\n",
            "TinyModel(\n",
            "  (linear1): Linear(in_features=100, out_features=200, bias=True)\n",
            "  (activation): ReLU()\n",
            "  (linear2): Linear(in_features=200, out_features=10, bias=True)\n",
            "  (softmax): Softmax(dim=None)\n",
            ")\n",
            "\n",
            "\n",
            "Just one layer:\n",
            "Linear(in_features=200, out_features=10, bias=True)\n",
            "\n",
            "\n",
            "Model params:\n",
            "Parameter containing:\n",
            "tensor([[-0.0549,  0.0220, -0.0577,  ..., -0.0215, -0.0032, -0.0314],\n",
            "        [-0.0390, -0.0263, -0.0428,  ..., -0.0033, -0.0733,  0.0103],\n",
            "        [-0.0165, -0.0933,  0.0361,  ...,  0.0943, -0.0948,  0.0304],\n",
            "        ...,\n",
            "        [ 0.0676,  0.0016,  0.0434,  ..., -0.0904, -0.0906, -0.0273],\n",
            "        [-0.0367,  0.0958,  0.0173,  ...,  0.0903,  0.0328,  0.0648],\n",
            "        [-0.0686, -0.0532,  0.0601,  ..., -0.0212, -0.0549, -0.0748]],\n",
            "       requires_grad=True)\n",
            "Parameter containing:\n",
            "tensor([ 0.0611,  0.0121,  0.0241, -0.0966, -0.0688, -0.0924,  0.0064, -0.0833,\n",
            "        -0.0522,  0.0754,  0.0619, -0.0436, -0.0103,  0.0992, -0.0227,  0.0120,\n",
            "        -0.0079, -0.0952,  0.0377,  0.0179,  0.0092,  0.0950, -0.0226, -0.0261,\n",
            "         0.0875, -0.0583,  0.0313, -0.0772,  0.0391, -0.0921, -0.0658, -0.0335,\n",
            "        -0.0996,  0.0738,  0.0109,  0.0264,  0.0233,  0.0089, -0.0790,  0.0726,\n",
            "         0.0589, -0.0886,  0.0645, -0.0774, -0.0639,  0.0989, -0.0264, -0.0647,\n",
            "        -0.0049,  0.0764,  0.0399,  0.0546, -0.0440, -0.0504, -0.0831, -0.0421,\n",
            "        -0.0570, -0.0020, -0.0784,  0.0286,  0.0283,  0.0868, -0.0713, -0.0874,\n",
            "         0.0797,  0.0020,  0.0580,  0.0282,  0.0306,  0.0764, -0.0235,  0.0030,\n",
            "         0.0323, -0.0881,  0.0752, -0.0721, -0.0362,  0.0897, -0.0903,  0.0254,\n",
            "         0.0561,  0.0244,  0.0882, -0.0354, -0.0825, -0.0780,  0.0687, -0.0715,\n",
            "        -0.0391, -0.0869, -0.0265, -0.0114, -0.0563,  0.0316,  0.0505, -0.0312,\n",
            "         0.0343,  0.0271,  0.0297,  0.0648,  0.0168, -0.0426, -0.0777, -0.0048,\n",
            "        -0.0582, -0.0410,  0.0528,  0.0160,  0.0922,  0.0343, -0.0981, -0.0696,\n",
            "         0.0258,  0.0088, -0.0764,  0.0836,  0.0295,  0.0051, -0.0660,  0.0450,\n",
            "        -0.0301, -0.0179,  0.0011,  0.0446,  0.0400, -0.0911, -0.0323,  0.0417,\n",
            "        -0.0516,  0.0814, -0.0793,  0.0079,  0.0984, -0.0154,  0.0684,  0.0624,\n",
            "         0.0051,  0.0563,  0.0154,  0.0779,  0.0924,  0.0797, -0.0031,  0.0897,\n",
            "        -0.0470,  0.0775,  0.0001, -0.0961, -0.0740,  0.0200, -0.0971, -0.0276,\n",
            "         0.0048,  0.0716, -0.0437,  0.0888, -0.0090, -0.0078, -0.0477, -0.0712,\n",
            "         0.0022,  0.0533, -0.0423,  0.0878, -0.0046, -0.0313,  0.0361,  0.0610,\n",
            "        -0.0916,  0.0066,  0.0408,  0.0594, -0.0599,  0.0446,  0.0441,  0.0892,\n",
            "        -0.0797,  0.0738, -0.0709, -0.0207, -0.0499,  0.0810, -0.0687, -0.0221,\n",
            "        -0.0934,  0.0382,  0.0497, -0.0689, -0.0401, -0.0561,  0.0243, -0.0602,\n",
            "         0.0933, -0.0187,  0.0105,  0.0966,  0.0329, -0.0251,  0.0243,  0.0684],\n",
            "       requires_grad=True)\n",
            "Parameter containing:\n",
            "tensor([[-0.0238,  0.0587,  0.0360,  ..., -0.0332,  0.0566, -0.0016],\n",
            "        [-0.0215, -0.0222, -0.0609,  ..., -0.0146,  0.0672, -0.0535],\n",
            "        [-0.0597,  0.0601, -0.0091,  ..., -0.0500, -0.0528,  0.0099],\n",
            "        ...,\n",
            "        [ 0.0060, -0.0018,  0.0045,  ..., -0.0630, -0.0437, -0.0520],\n",
            "        [-0.0598,  0.0603, -0.0002,  ...,  0.0466,  0.0670, -0.0677],\n",
            "        [ 0.0312, -0.0706,  0.0235,  ...,  0.0019,  0.0327, -0.0012]],\n",
            "       requires_grad=True)\n",
            "Parameter containing:\n",
            "tensor([ 0.0523, -0.0457, -0.0477,  0.0535,  0.0511, -0.0407,  0.0343, -0.0379,\n",
            "         0.0179,  0.0027], requires_grad=True)\n",
            "\n",
            "\n",
            "Layer params:\n",
            "Parameter containing:\n",
            "tensor([[-0.0238,  0.0587,  0.0360,  ..., -0.0332,  0.0566, -0.0016],\n",
            "        [-0.0215, -0.0222, -0.0609,  ..., -0.0146,  0.0672, -0.0535],\n",
            "        [-0.0597,  0.0601, -0.0091,  ..., -0.0500, -0.0528,  0.0099],\n",
            "        ...,\n",
            "        [ 0.0060, -0.0018,  0.0045,  ..., -0.0630, -0.0437, -0.0520],\n",
            "        [-0.0598,  0.0603, -0.0002,  ...,  0.0466,  0.0670, -0.0677],\n",
            "        [ 0.0312, -0.0706,  0.0235,  ...,  0.0019,  0.0327, -0.0012]],\n",
            "       requires_grad=True)\n",
            "Parameter containing:\n",
            "tensor([ 0.0523, -0.0457, -0.0477,  0.0535,  0.0511, -0.0407,  0.0343, -0.0379,\n",
            "         0.0179,  0.0027], requires_grad=True)\n"
          ]
        }
      ],
      "source": [
        "class TinyModel(torch.nn.Module):\n",
        "\n",
        "    def __init__(self):\n",
        "        super(TinyModel, self).__init__()\n",
        "\n",
        "        self.linear1 = torch.nn.Linear(100, 200)\n",
        "        self.activation = torch.nn.ReLU()\n",
        "        self.linear2 = torch.nn.Linear(200, 10)\n",
        "        self.softmax = torch.nn.Softmax()\n",
        "\n",
        "    def forward(self, x):\n",
        "        x = self.linear1(x)\n",
        "        x = self.activation(x)\n",
        "        x = self.linear2(x)\n",
        "        x = self.softmax(x)\n",
        "        return x\n",
        "\n",
        "tinymodel = TinyModel()\n",
        "\n",
        "print('The model:')\n",
        "print(tinymodel)\n",
        "\n",
        "print('\\n\\nJust one layer:')\n",
        "print(tinymodel.linear2)\n",
        "\n",
        "print('\\n\\nModel params:')\n",
        "for param in tinymodel.parameters():\n",
        "    print(param)\n",
        "\n",
        "print('\\n\\nLayer params:')\n",
        "for param in tinymodel.linear2.parameters():\n",
        "    print(param)"
      ]
    },
    {
      "cell_type": "code",
      "execution_count": null,
      "metadata": {
        "id": "RI3SLuLh5cRX",
        "colab": {
          "base_uri": "https://localhost:8080/"
        },
        "outputId": "844bb65c-fb69-4b90-def5-c2f16bac121e"
      },
      "outputs": [
        {
          "output_type": "stream",
          "name": "stdout",
          "text": [
            "Input:\n",
            "tensor([[0.1235, 0.1302, 0.9639],\n",
            "        [0.2066, 0.8060, 0.3388],\n",
            "        [0.7082, 0.6404, 0.9910]])\n",
            "\n",
            "\n",
            "Weight and Bias parameters:\n",
            "Parameter containing:\n",
            "tensor([[-0.3886,  0.1657,  0.0602],\n",
            "        [-0.4972, -0.2492, -0.2049],\n",
            "        [-0.2273,  0.0277,  0.5475]], requires_grad=True)\n",
            "Parameter containing:\n",
            "tensor([ 0.3870, -0.3699, -0.4437], requires_grad=True)\n",
            "\n",
            "\n",
            "Output:\n",
            "tensor([[ 0.4185, -0.6613,  0.0595],\n",
            "        [ 0.4606, -0.7429, -0.2829],\n",
            "        [ 0.2774, -1.0846, -0.0444]], grad_fn=<AddmmBackward0>)\n"
          ]
        }
      ],
      "source": [
        "lin = torch.nn.Linear(3, 3)\n",
        "x = torch.rand(3, 3)\n",
        "print('Input:')\n",
        "print(x)\n",
        "\n",
        "print('\\n\\nWeight and Bias parameters:')\n",
        "for param in lin.parameters():\n",
        "    print(param)\n",
        "\n",
        "y = lin(x)\n",
        "print('\\n\\nOutput:')\n",
        "print(y)"
      ]
    },
    {
      "cell_type": "code",
      "execution_count": null,
      "metadata": {
        "id": "1rRRq_5a5cRX"
      },
      "outputs": [],
      "source": [
        "class LeNet(torch.nn.Module):\n",
        "\n",
        "    def __init__(self):\n",
        "        super(LeNet, self).__init__()\n",
        "        # 1 input image channel (black & white), 6 output channels, 5x5 square convolution\n",
        "        # kernel\n",
        "        self.conv1 = torch.nn.Conv2d(1, 6, 5)\n",
        "        self.conv2 = torch.nn.Conv2d(6, 16, 3)\n",
        "        # an affine operation: y = Wx + b\n",
        "        self.fc1 = torch.nn.Linear(16 * 6 * 6, 120)  # 6*6 from image dimension\n",
        "        self.fc2 = torch.nn.Linear(120, 84)\n",
        "        self.fc3 = torch.nn.Linear(84, 10)\n",
        "\n",
        "    def forward(self, x):\n",
        "        # Max pooling over a (2, 2) window\n",
        "        x = F.max_pool2d(F.relu(self.conv1(x)), (2, 2))\n",
        "        # If the size is a square you can only specify a single number\n",
        "        x = F.max_pool2d(F.relu(self.conv2(x)), 2)\n",
        "        x = x.view(-1, self.num_flat_features(x))\n",
        "        x = F.relu(self.fc1(x))\n",
        "        x = F.relu(self.fc2(x))\n",
        "        x = self.fc3(x)\n",
        "        return x\n",
        "\n",
        "    def num_flat_features(self, x):\n",
        "        size = x.size()[1:]  # all dimensions except the batch dimension\n",
        "        num_features = 1\n",
        "        for s in size:\n",
        "            num_features *= s\n",
        "        return num_features"
      ]
    },
    {
      "cell_type": "code",
      "execution_count": null,
      "metadata": {
        "id": "GzEnMY-m5cRX"
      },
      "outputs": [],
      "source": [
        "class LSTMTagger(torch.nn.Module):\n",
        "\n",
        "    def __init__(self, embedding_dim, hidden_dim, vocab_size, tagset_size):\n",
        "        super(LSTMTagger, self).__init__()\n",
        "        self.hidden_dim = hidden_dim\n",
        "\n",
        "        self.word_embeddings = torch.nn.Embedding(vocab_size, embedding_dim)\n",
        "\n",
        "        # The LSTM takes word embeddings as inputs, and outputs hidden states\n",
        "        # with dimensionality hidden_dim.\n",
        "        self.lstm = torch.nn.LSTM(embedding_dim, hidden_dim)\n",
        "\n",
        "        # The linear layer that maps from hidden state space to tag space\n",
        "        self.hidden2tag = torch.nn.Linear(hidden_dim, tagset_size)\n",
        "\n",
        "    def forward(self, sentence):\n",
        "        embeds = self.word_embeddings(sentence)\n",
        "        lstm_out, _ = self.lstm(embeds.view(len(sentence), 1, -1))\n",
        "        tag_space = self.hidden2tag(lstm_out.view(len(sentence), -1))\n",
        "        tag_scores = F.log_softmax(tag_space, dim=1)\n",
        "        return tag_scores"
      ]
    },
    {
      "cell_type": "code",
      "execution_count": null,
      "metadata": {
        "id": "lyc8iY9f5cRY",
        "colab": {
          "base_uri": "https://localhost:8080/"
        },
        "outputId": "bf09a16d-b326-41c7-86f2-ac7e8d7359b2"
      },
      "outputs": [
        {
          "output_type": "stream",
          "name": "stdout",
          "text": [
            "tensor([[[5.4597e-01, 8.2199e-01, 4.4006e-01, 9.6370e-01, 9.4167e-01,\n",
            "          1.9333e-01],\n",
            "         [9.1413e-01, 1.3274e-01, 6.1725e-01, 8.6617e-01, 2.5825e-01,\n",
            "          3.3527e-01],\n",
            "         [3.1424e-01, 5.6985e-01, 3.7582e-01, 8.9294e-02, 4.5281e-01,\n",
            "          8.3581e-01],\n",
            "         [9.7960e-01, 5.0515e-01, 4.2601e-01, 3.7058e-01, 9.7483e-01,\n",
            "          2.4814e-02],\n",
            "         [5.0598e-01, 7.5444e-01, 3.4923e-01, 7.8869e-01, 1.7874e-01,\n",
            "          5.2460e-01],\n",
            "         [2.1366e-01, 7.4875e-03, 8.4715e-01, 4.1498e-01, 6.2107e-01,\n",
            "          4.4394e-04]]])\n",
            "tensor([[[0.9141, 0.9637],\n",
            "         [0.9796, 0.9748]]])\n"
          ]
        }
      ],
      "source": [
        "my_tensor = torch.rand(1, 6, 6)\n",
        "print(my_tensor)\n",
        "\n",
        "maxpool_layer = torch.nn.MaxPool2d(3)\n",
        "print(maxpool_layer(my_tensor))"
      ]
    },
    {
      "cell_type": "code",
      "execution_count": null,
      "metadata": {
        "id": "3sab6d0X5cRY",
        "colab": {
          "base_uri": "https://localhost:8080/"
        },
        "outputId": "616360e2-d168-4044-8127-314ebaf81152"
      },
      "outputs": [
        {
          "output_type": "stream",
          "name": "stdout",
          "text": [
            "tensor([[[ 9.9703, 22.7496, 19.2877, 10.6153],\n",
            "         [24.0682, 10.3293, 12.3444, 16.2707],\n",
            "         [18.1957,  5.4771, 15.7652, 22.7185],\n",
            "         [14.4929, 20.8770, 18.4366, 15.9904]]])\n",
            "tensor(16.0993)\n",
            "tensor([[[-1.0327,  1.2885,  0.6597, -0.9155],\n",
            "         [ 1.5824, -1.0322, -0.6487,  0.0985],\n",
            "         [ 0.4202, -1.5915,  0.0358,  1.1355],\n",
            "         [-1.2173,  1.4114,  0.4066, -0.6007]]],\n",
            "       grad_fn=<NativeBatchNormBackward0>)\n",
            "tensor(5.5879e-08, grad_fn=<MeanBackward0>)\n"
          ]
        }
      ],
      "source": [
        "my_tensor = torch.rand(1, 4, 4) * 20 + 5\n",
        "print(my_tensor)\n",
        "\n",
        "print(my_tensor.mean())\n",
        "\n",
        "norm_layer = torch.nn.BatchNorm1d(4)\n",
        "normed_tensor = norm_layer(my_tensor)\n",
        "print(normed_tensor)\n",
        "\n",
        "print(normed_tensor.mean())"
      ]
    },
    {
      "cell_type": "code",
      "execution_count": null,
      "metadata": {
        "id": "Z4qSjvWK5cRY",
        "colab": {
          "base_uri": "https://localhost:8080/"
        },
        "outputId": "735d7ed4-20f1-444a-e7bb-3855f86e4c65"
      },
      "outputs": [
        {
          "output_type": "stream",
          "name": "stdout",
          "text": [
            "tensor([[[0.1811, 1.2711, 0.1706, 0.0000],\n",
            "         [1.1262, 0.0000, 0.0000, 0.0000],\n",
            "         [0.0000, 0.5293, 1.3928, 0.0000],\n",
            "         [0.0000, 0.2431, 0.0000, 0.5313]]])\n",
            "tensor([[[0.1811, 1.2711, 0.1706, 0.0000],\n",
            "         [0.0000, 0.7036, 1.5501, 0.0000],\n",
            "         [0.0000, 0.5293, 1.3928, 1.5247],\n",
            "         [0.5704, 0.2431, 0.9984, 0.5313]]])\n"
          ]
        }
      ],
      "source": [
        "my_tensor = torch.rand(1, 4, 4)\n",
        "dropout = torch.nn.Dropout(p=0.4)\n",
        "print(dropout(my_tensor))\n",
        "print(dropout(my_tensor))"
      ]
    },
    {
      "cell_type": "code",
      "execution_count": null,
      "metadata": {
        "id": "3qWSyZj85pu5",
        "colab": {
          "base_uri": "https://localhost:8080/",
          "height": 554
        },
        "outputId": "191d6881-52a8-4072-f35c-1974b822af2d"
      },
      "outputs": [
        {
          "output_type": "stream",
          "name": "stdout",
          "text": [
            "Downloading http://fashion-mnist.s3-website.eu-central-1.amazonaws.com/train-images-idx3-ubyte.gz\n",
            "Downloading http://fashion-mnist.s3-website.eu-central-1.amazonaws.com/train-images-idx3-ubyte.gz to ./data/FashionMNIST/raw/train-images-idx3-ubyte.gz\n"
          ]
        },
        {
          "output_type": "stream",
          "name": "stderr",
          "text": [
            "100%|██████████| 26.4M/26.4M [00:01<00:00, 18.7MB/s]\n"
          ]
        },
        {
          "output_type": "stream",
          "name": "stdout",
          "text": [
            "Extracting ./data/FashionMNIST/raw/train-images-idx3-ubyte.gz to ./data/FashionMNIST/raw\n",
            "\n",
            "Downloading http://fashion-mnist.s3-website.eu-central-1.amazonaws.com/train-labels-idx1-ubyte.gz\n",
            "Downloading http://fashion-mnist.s3-website.eu-central-1.amazonaws.com/train-labels-idx1-ubyte.gz to ./data/FashionMNIST/raw/train-labels-idx1-ubyte.gz\n"
          ]
        },
        {
          "output_type": "stream",
          "name": "stderr",
          "text": [
            "100%|██████████| 29.5k/29.5k [00:00<00:00, 309kB/s]\n"
          ]
        },
        {
          "output_type": "stream",
          "name": "stdout",
          "text": [
            "Extracting ./data/FashionMNIST/raw/train-labels-idx1-ubyte.gz to ./data/FashionMNIST/raw\n",
            "\n",
            "Downloading http://fashion-mnist.s3-website.eu-central-1.amazonaws.com/t10k-images-idx3-ubyte.gz\n",
            "Downloading http://fashion-mnist.s3-website.eu-central-1.amazonaws.com/t10k-images-idx3-ubyte.gz to ./data/FashionMNIST/raw/t10k-images-idx3-ubyte.gz\n"
          ]
        },
        {
          "output_type": "stream",
          "name": "stderr",
          "text": [
            "100%|██████████| 4.42M/4.42M [00:00<00:00, 5.58MB/s]\n"
          ]
        },
        {
          "output_type": "stream",
          "name": "stdout",
          "text": [
            "Extracting ./data/FashionMNIST/raw/t10k-images-idx3-ubyte.gz to ./data/FashionMNIST/raw\n",
            "\n",
            "Downloading http://fashion-mnist.s3-website.eu-central-1.amazonaws.com/t10k-labels-idx1-ubyte.gz\n",
            "Downloading http://fashion-mnist.s3-website.eu-central-1.amazonaws.com/t10k-labels-idx1-ubyte.gz to ./data/FashionMNIST/raw/t10k-labels-idx1-ubyte.gz\n"
          ]
        },
        {
          "output_type": "stream",
          "name": "stderr",
          "text": [
            "100%|██████████| 5.15k/5.15k [00:00<00:00, 4.72MB/s]"
          ]
        },
        {
          "output_type": "stream",
          "name": "stdout",
          "text": [
            "Extracting ./data/FashionMNIST/raw/t10k-labels-idx1-ubyte.gz to ./data/FashionMNIST/raw\n",
            "\n"
          ]
        },
        {
          "output_type": "stream",
          "name": "stderr",
          "text": [
            "\n"
          ]
        },
        {
          "output_type": "display_data",
          "data": {
            "text/plain": [
              "<Figure size 640x480 with 1 Axes>"
            ],
            "image/png": "[encoded data removed]"
          },
          "metadata": {}
        }
      ],
      "source": [
        "# Gather datasets and prepare them for consumption\n",
        "transform = transforms.Compose(\n",
        "    [transforms.ToTensor(),\n",
        "    transforms.Normalize((0.5,), (0.5,))])\n",
        "\n",
        "# Store separate training and validations splits in ./data\n",
        "training_set = torchvision.datasets.FashionMNIST('./data',\n",
        "    download=True,\n",
        "    train=True,\n",
        "    transform=transform)\n",
        "validation_set = torchvision.datasets.FashionMNIST('./data',\n",
        "    download=True,\n",
        "    train=False,\n",
        "    transform=transform)\n",
        "\n",
        "training_loader = torch.utils.data.DataLoader(training_set,\n",
        "                                              batch_size=4,\n",
        "                                              shuffle=True,\n",
        "                                              num_workers=2)\n",
        "\n",
        "\n",
        "validation_loader = torch.utils.data.DataLoader(validation_set,\n",
        "                                                batch_size=4,\n",
        "                                                shuffle=False,\n",
        "                                                num_workers=2)\n",
        "\n",
        "# Class labels\n",
        "classes = ('T-shirt/top', 'Trouser', 'Pullover', 'Dress', 'Coat',\n",
        "        'Sandal', 'Shirt', 'Sneaker', 'Bag', 'Ankle Boot')\n",
        "\n",
        "# Helper function for inline image display\n",
        "def matplotlib_imshow(img, one_channel=False):\n",
        "    if one_channel:\n",
        "        img = img.mean(dim=0)\n",
        "    img = img / 2 + 0.5     # unnormalize\n",
        "    npimg = img.numpy()\n",
        "    if one_channel:\n",
        "        plt.imshow(npimg, cmap=\"Greys\")\n",
        "    else:\n",
        "        plt.imshow(np.transpose(npimg, (1, 2, 0)))\n",
        "\n",
        "# Extract a batch of 4 images\n",
        "dataiter = iter(training_loader)\n",
        "images, labels = next(dataiter)\n",
        "\n",
        "# Create a grid from the images and show them\n",
        "img_grid = torchvision.utils.make_grid(images)\n",
        "matplotlib_imshow(img_grid, one_channel=True)"
      ]
    },
    {
      "cell_type": "code",
      "execution_count": null,
      "metadata": {
        "id": "PZ9tkkdE5pu6"
      },
      "outputs": [],
      "source": [
        "writer = SummaryWriter('runs/fashion_mnist_experiment_1')\n",
        "writer.add_image('Four Fashion-MNIST Images', img_grid)\n",
        "writer.flush()"
      ]
    },
    {
      "cell_type": "code",
      "execution_count": null,
      "metadata": {
        "id": "2kJqe6S55pu6"
      },
      "outputs": [],
      "source": [
        "class Net(nn.Module):\n",
        "    def __init__(self):\n",
        "        super(Net, self).__init__()\n",
        "        self.conv1 = nn.Conv2d(1, 6, 5)\n",
        "        self.pool = nn.MaxPool2d(2, 2)\n",
        "        self.conv2 = nn.Conv2d(6, 16, 5)\n",
        "        self.fc1 = nn.Linear(16 * 4 * 4, 120)\n",
        "        self.fc2 = nn.Linear(120, 84)\n",
        "        self.fc3 = nn.Linear(84, 10)\n",
        "\n",
        "    def forward(self, x):\n",
        "        x = self.pool(F.relu(self.conv1(x)))\n",
        "        x = self.pool(F.relu(self.conv2(x)))\n",
        "        x = x.view(-1, 16 * 4 * 4)\n",
        "        x = F.relu(self.fc1(x))\n",
        "        x = F.relu(self.fc2(x))\n",
        "        x = self.fc3(x)\n",
        "        return x\n",
        "\n",
        "\n",
        "net = Net()\n",
        "criterion = nn.CrossEntropyLoss()\n",
        "optimizer = optim.SGD(net.parameters(), lr=0.002, momentum=0.9)"
      ]
    },
    {
      "cell_type": "code",
      "execution_count": null,
      "metadata": {
        "id": "shCFhxhZ5pu6",
        "colab": {
          "base_uri": "https://localhost:8080/"
        },
        "outputId": "8b9aa9a2-3e48-4cc1-f71a-bf771f6ae1aa"
      },
      "outputs": [
        {
          "output_type": "stream",
          "name": "stdout",
          "text": [
            "2500\n",
            "Batch 1000\n",
            "Batch 2000\n",
            "Batch 3000\n",
            "Batch 4000\n",
            "Batch 5000\n",
            "Batch 6000\n",
            "Batch 7000\n",
            "Batch 8000\n",
            "Batch 9000\n",
            "Batch 10000\n",
            "Batch 11000\n",
            "Batch 12000\n",
            "Batch 13000\n",
            "Batch 14000\n",
            "Batch 15000\n",
            "Finished Training\n"
          ]
        }
      ],
      "source": [
        "print(len(validation_loader))\n",
        "for epoch in range(1):\n",
        "    running_loss = 0.0\n",
        "\n",
        "    for i, data in enumerate(training_loader, 0):\n",
        "        # basic training loop\n",
        "        inputs, labels = data\n",
        "        optimizer.zero_grad()\n",
        "        outputs = net(inputs)\n",
        "        loss = criterion(outputs, labels)\n",
        "        loss.backward()\n",
        "        optimizer.step()\n",
        "\n",
        "        running_loss += loss.item()\n",
        "        if i % 1000 == 999:    # Every 1000 mini-batches...\n",
        "            print('Batch {}'.format(i + 1))\n",
        "            # Check against the validation set\n",
        "            running_vloss = 0.0\n",
        "\n",
        "            # In evaluation mode some model specific operations can be omitted eg. dropout layer\n",
        "            net.train(False) # Switching to evaluation mode, eg. turning off regularisation\n",
        "            for j, vdata in enumerate(validation_loader, 0):\n",
        "                vinputs, vlabels = vdata\n",
        "                voutputs = net(vinputs)\n",
        "                vloss = criterion(voutputs, vlabels)\n",
        "                running_vloss += vloss.item()\n",
        "            net.train(True) # Switching back to training mode, eg. turning on regularisation\n",
        "\n",
        "            avg_loss = running_loss / 1000\n",
        "            avg_vloss = running_vloss / len(validation_loader)\n",
        "\n",
        "            # Log the running loss averaged per batch\n",
        "            writer.add_scalars('Training vs. Validation Loss',\n",
        "                            { 'Training' : avg_loss, 'Validation' : avg_vloss },\n",
        "                            epoch * len(training_loader) + i)\n",
        "\n",
        "            running_loss = 0.0\n",
        "print('Finished Training')\n",
        "\n",
        "writer.flush()"
      ]
    },
    {
      "cell_type": "code",
      "execution_count": null,
      "metadata": {
        "id": "irisGV1J5pu6"
      },
      "outputs": [],
      "source": [
        "# Again, grab a single mini-batch of images\n",
        "dataiter = iter(training_loader)\n",
        "images, labels = next(dataiter)\n",
        "\n",
        "# add_graph() will trace the sample input through your model,\n",
        "# and render it as a graph.\n",
        "writer.add_graph(net, images)\n",
        "writer.flush()"
      ]
    },
    {
      "cell_type": "code",
      "execution_count": null,
      "metadata": {
        "id": "uuHnvyKc5pu6",
        "colab": {
          "base_uri": "https://localhost:8080/"
        },
        "outputId": "4f69bdda-6287-4768-f7c4-18aebc4bc750"
      },
      "outputs": [
        {
          "output_type": "stream",
          "name": "stdout",
          "text": [
            "warning: Embedding dir exists, did you set global_step for add_embedding()?\n"
          ]
        }
      ],
      "source": [
        "# Select a random subset of data and corresponding labels\n",
        "def select_n_random(data, labels, n=300):\n",
        "    assert len(data) == len(labels)\n",
        "\n",
        "    perm = torch.randperm(len(data))\n",
        "    return data[perm][:n], labels[perm][:n]\n",
        "\n",
        "# Extract a random subset of data\n",
        "images, labels = select_n_random(training_set.data, training_set.targets)\n",
        "\n",
        "# get the class labels for each image\n",
        "class_labels = [classes[label] for label in labels]\n",
        "\n",
        "# log embeddings\n",
        "features = images.view(-1, 28 * 28)\n",
        "writer.add_embedding(features,\n",
        "                    metadata=class_labels,\n",
        "                    label_img=images.unsqueeze(1))\n",
        "writer.flush()\n",
        "writer.close()"
      ]
    },
    {
      "cell_type": "code",
      "execution_count": null,
      "metadata": {
        "id": "6jVU3CDV55D6",
        "colab": {
          "base_uri": "https://localhost:8080/"
        },
        "outputId": "6daab190-8106-4d61-8229-2cba48ecb5cc"
      },
      "outputs": [
        {
          "output_type": "stream",
          "name": "stdout",
          "text": [
            "Training set has 60000 instances\n",
            "Validation set has 10000 instances\n"
          ]
        }
      ],
      "source": [
        "transform = transforms.Compose(\n",
        "    [transforms.ToTensor(),\n",
        "    transforms.Normalize((0.5,), (0.5,))])\n",
        "\n",
        "# Create datasets for training & validation, download if necessary\n",
        "training_set = torchvision.datasets.FashionMNIST('./data', train=True, transform=transform, download=True)\n",
        "validation_set = torchvision.datasets.FashionMNIST('./data', train=False, transform=transform, download=True)\n",
        "\n",
        "# Create data loaders for our datasets; shuffle for training, not for validation\n",
        "training_loader = torch.utils.data.DataLoader(training_set, batch_size=4, shuffle=True)\n",
        "validation_loader = torch.utils.data.DataLoader(validation_set, batch_size=4, shuffle=False)\n",
        "\n",
        "# Class labels\n",
        "classes = ('T-shirt/top', 'Trouser', 'Pullover', 'Dress', 'Coat',\n",
        "        'Sandal', 'Shirt', 'Sneaker', 'Bag', 'Ankle Boot')\n",
        "\n",
        "# Report split sizes\n",
        "print('Training set has {} instances'.format(len(training_set)))\n",
        "print('Validation set has {} instances'.format(len(validation_set)))"
      ]
    },
    {
      "cell_type": "code",
      "execution_count": null,
      "metadata": {
        "id": "N07sfKp_55D6",
        "colab": {
          "base_uri": "https://localhost:8080/",
          "height": 211
        },
        "outputId": "067e155a-3088-4245-caad-25a2a11763a6"
      },
      "outputs": [
        {
          "output_type": "stream",
          "name": "stdout",
          "text": [
            "Coat  Sneaker  T-shirt/top  Shirt\n"
          ]
        },
        {
          "output_type": "display_data",
          "data": {
            "text/plain": [
              "<Figure size 640x480 with 1 Axes>"
            ],
            "image/png": "[encoded data removed]"
          },
          "metadata": {}
        }
      ],
      "source": [
        "def matplotlib_imshow(img, one_channel=False):\n",
        "    if one_channel:\n",
        "        img = img.mean(dim=0)\n",
        "    img = img / 2 + 0.5     # unnormalize\n",
        "    npimg = img.numpy()\n",
        "    if one_channel:\n",
        "        plt.imshow(npimg, cmap=\"Greys\")\n",
        "    else:\n",
        "        plt.imshow(np.transpose(npimg, (1, 2, 0)))\n",
        "\n",
        "dataiter = iter(training_loader)\n",
        "images, labels = next(dataiter)\n",
        "\n",
        "# Create a grid from the images and show them\n",
        "img_grid = torchvision.utils.make_grid(images)\n",
        "matplotlib_imshow(img_grid, one_channel=True)\n",
        "print('  '.join(classes[labels[j]] for j in range(4)))"
      ]
    },
    {
      "cell_type": "code",
      "execution_count": null,
      "metadata": {
        "id": "APsfrPmj55D6"
      },
      "outputs": [],
      "source": [
        "class GarmentClassifier(nn.Module):\n",
        "    def __init__(self):\n",
        "        super(GarmentClassifier, self).__init__()\n",
        "        self.conv1 = nn.Conv2d(1, 6, 5)\n",
        "        self.pool = nn.MaxPool2d(2, 2)\n",
        "        self.conv2 = nn.Conv2d(6, 16, 5)\n",
        "        self.fc1 = nn.Linear(16 * 4 * 4, 120)\n",
        "        self.fc2 = nn.Linear(120, 84)\n",
        "        self.fc3 = nn.Linear(84, 10)\n",
        "\n",
        "    def forward(self, x):\n",
        "        x = self.pool(F.relu(self.conv1(x)))\n",
        "        x = self.pool(F.relu(self.conv2(x)))\n",
        "        x = x.view(-1, 16 * 4 * 4)\n",
        "        x = F.relu(self.fc1(x))\n",
        "        x = F.relu(self.fc2(x))\n",
        "        x = self.fc3(x)\n",
        "        return x\n",
        "\n",
        "\n",
        "model = GarmentClassifier()"
      ]
    },
    {
      "cell_type": "code",
      "execution_count": null,
      "metadata": {
        "id": "bARTV0Ye55D7",
        "colab": {
          "base_uri": "https://localhost:8080/"
        },
        "outputId": "d60188c1-2b36-416f-a90f-f1c52d1659e3"
      },
      "outputs": [
        {
          "output_type": "stream",
          "name": "stdout",
          "text": [
            "tensor([[0.6634, 0.7491, 0.8267, 0.0577, 0.4318, 0.3283, 0.5812, 0.7620, 0.4142,\n",
            "         0.8887],\n",
            "        [0.4855, 0.4796, 0.3952, 0.4912, 0.9723, 0.0856, 0.1202, 0.1020, 0.9339,\n",
            "         0.4286],\n",
            "        [0.1653, 0.5401, 0.6108, 0.9538, 0.4931, 0.7310, 0.0838, 0.2993, 0.9080,\n",
            "         0.7020],\n",
            "        [0.0245, 0.6991, 0.1164, 0.2624, 0.0150, 0.3284, 0.7741, 0.4889, 0.1920,\n",
            "         0.8989]])\n",
            "tensor([1, 5, 3, 7])\n",
            "Total loss for this batch: 2.2603371143341064\n"
          ]
        }
      ],
      "source": [
        "loss_fn = torch.nn.CrossEntropyLoss()\n",
        "dummy_outputs = torch.rand(4, 10)\n",
        "dummy_labels = torch.tensor([1, 5, 3, 7])\n",
        "\n",
        "print(dummy_outputs)\n",
        "print(dummy_labels)\n",
        "\n",
        "loss = loss_fn(dummy_outputs, dummy_labels)\n",
        "print('Total loss for this batch: {}'.format(loss.item()))"
      ]
    },
    {
      "cell_type": "code",
      "execution_count": null,
      "metadata": {
        "id": "8IfJYE9T55D7"
      },
      "outputs": [],
      "source": [
        "# Optimizers specified in the torch.optim package\n",
        "optimizer = torch.optim.SGD(model.parameters(), lr=0.001, momentum=0.9)"
      ]
    },
    {
      "cell_type": "code",
      "execution_count": null,
      "metadata": {
        "id": "AplB5lLp55D7"
      },
      "outputs": [],
      "source": [
        "def train_one_epoch(epoch_index, tb_writer):\n",
        "    running_loss = 0.\n",
        "    last_loss = 0.\n",
        "    for i, data in enumerate(training_loader):\n",
        "        # Every data instance is an input + label pair\n",
        "        inputs, labels = data\n",
        "\n",
        "        # Zero your gradients for every batch!\n",
        "        optimizer.zero_grad()\n",
        "\n",
        "        # Make predictions for this batch\n",
        "        outputs = model(inputs)\n",
        "\n",
        "        # Compute the loss and its gradients\n",
        "        loss = loss_fn(outputs, labels)\n",
        "        loss.backward()\n",
        "\n",
        "        # Adjust learning weights\n",
        "        optimizer.step()\n",
        "\n",
        "        # Gather data and report\n",
        "        running_loss += loss.item()\n",
        "        if i % 1000 == 999:\n",
        "            last_loss = running_loss / 1000 # loss per batch\n",
        "            print('  batch {} loss: {}'.format(i + 1, last_loss))\n",
        "            tb_x = epoch_index * len(training_loader) + i + 1\n",
        "            tb_writer.add_scalar('Loss/train', last_loss, tb_x)\n",
        "            running_loss = 0.\n",
        "\n",
        "    return last_loss"
      ]
    },
    {
      "cell_type": "code",
      "execution_count": null,
      "metadata": {
        "id": "7ASHNj4j55D7",
        "colab": {
          "base_uri": "https://localhost:8080/"
        },
        "outputId": "de2914f8-8600-4db1-8946-5603aea0c7c1"
      },
      "outputs": [
        {
          "output_type": "stream",
          "name": "stdout",
          "text": [
            "EPOCH 1:\n",
            "  batch 1000 loss: 1.9317449332922698\n",
            "  batch 2000 loss: 0.9393988027870656\n",
            "  batch 3000 loss: 0.7025805080737919\n",
            "  batch 4000 loss: 0.6407148257954978\n",
            "  batch 5000 loss: 0.5760760003465694\n",
            "  batch 6000 loss: 0.5458733936930076\n",
            "  batch 7000 loss: 0.5194507774948143\n",
            "  batch 8000 loss: 0.5094477072880836\n",
            "  batch 9000 loss: 0.49024174839432816\n",
            "  batch 10000 loss: 0.4606529998423066\n",
            "  batch 11000 loss: 0.4488062714925036\n",
            "  batch 12000 loss: 0.4126757162209251\n",
            "  batch 13000 loss: 0.3895795952437911\n",
            "  batch 14000 loss: 0.4246640698146657\n",
            "  batch 15000 loss: 0.3999060980840295\n",
            "LOSS train 0.3999060980840295 valid 0.43333888053894043\n",
            "EPOCH 2:\n",
            "  batch 1000 loss: 0.3662880696825159\n",
            "  batch 2000 loss: 0.39630525526133714\n",
            "  batch 3000 loss: 0.35808437766190765\n",
            "  batch 4000 loss: 0.3669954755732324\n",
            "  batch 5000 loss: 0.38950750175345455\n",
            "  batch 6000 loss: 0.37225263562944017\n",
            "  batch 7000 loss: 0.3722252377484692\n",
            "  batch 8000 loss: 0.36624154552468097\n",
            "  batch 9000 loss: 0.35047565191274044\n",
            "  batch 10000 loss: 0.34200891775719355\n",
            "  batch 11000 loss: 0.3264104436984926\n",
            "  batch 12000 loss: 0.3570765215686988\n",
            "  batch 13000 loss: 0.344503795317607\n",
            "  batch 14000 loss: 0.37178293188093814\n",
            "  batch 15000 loss: 0.3053194888906219\n",
            "LOSS train 0.3053194888906219 valid 0.33566799759864807\n",
            "EPOCH 3:\n",
            "  batch 1000 loss: 0.31029070102091644\n",
            "  batch 2000 loss: 0.3249168805667723\n",
            "  batch 3000 loss: 0.312932977332006\n",
            "  batch 4000 loss: 0.33797777930070877\n",
            "  batch 5000 loss: 0.3243111077467329\n",
            "  batch 6000 loss: 0.3164297205140756\n",
            "  batch 7000 loss: 0.3062703718506455\n",
            "  batch 8000 loss: 0.30111892518927924\n",
            "  batch 9000 loss: 0.32393729835774865\n",
            "  batch 10000 loss: 0.3129527214313166\n",
            "  batch 11000 loss: 0.3322996640565252\n",
            "  batch 12000 loss: 0.31351441731391244\n",
            "  batch 13000 loss: 0.28973614040408574\n",
            "  batch 14000 loss: 0.30826586412795587\n",
            "  batch 15000 loss: 0.284068142848133\n",
            "LOSS train 0.284068142848133 valid 0.33746421337127686\n",
            "EPOCH 4:\n",
            "  batch 1000 loss: 0.28383689484114805\n",
            "  batch 2000 loss: 0.27880299458327135\n",
            "  batch 3000 loss: 0.30464062570586614\n",
            "  batch 4000 loss: 0.27769655111456815\n",
            "  batch 5000 loss: 0.29096559687814944\n",
            "  batch 6000 loss: 0.27928542159816605\n",
            "  batch 7000 loss: 0.3008484684066061\n",
            "  batch 8000 loss: 0.2802437322910482\n",
            "  batch 9000 loss: 0.27568783556597193\n",
            "  batch 10000 loss: 0.2967318869184346\n",
            "  batch 11000 loss: 0.29039576551713253\n",
            "  batch 12000 loss: 0.29226382866468703\n",
            "  batch 13000 loss: 0.29773264855638265\n",
            "  batch 14000 loss: 0.275998343635838\n",
            "  batch 15000 loss: 0.26537251105009635\n",
            "LOSS train 0.26537251105009635 valid 0.3276183605194092\n",
            "EPOCH 5:\n",
            "  batch 1000 loss: 0.26963783401140096\n",
            "  batch 2000 loss: 0.26030486745720555\n",
            "  batch 3000 loss: 0.2602031284167897\n",
            "  batch 4000 loss: 0.2577030224469127\n",
            "  batch 5000 loss: 0.27502627558556014\n",
            "  batch 6000 loss: 0.2523586055154956\n",
            "  batch 7000 loss: 0.28558142267332004\n",
            "  batch 8000 loss: 0.2630194482195657\n",
            "  batch 9000 loss: 0.2576365206328846\n",
            "  batch 10000 loss: 0.27330563714091477\n",
            "  batch 11000 loss: 0.2840449653850419\n",
            "  batch 12000 loss: 0.2679531181679049\n",
            "  batch 13000 loss: 0.274729300273294\n",
            "  batch 14000 loss: 0.25554120125022384\n",
            "  batch 15000 loss: 0.2682084851505024\n",
            "LOSS train 0.2682084851505024 valid 0.30920782685279846\n",
            "EPOCH 6:\n",
            "  batch 1000 loss: 0.23880081837116812\n",
            "  batch 2000 loss: 0.2631383149029698\n",
            "  batch 3000 loss: 0.2786642804311684\n",
            "  batch 4000 loss: 0.2572843851377729\n",
            "  batch 5000 loss: 0.24569516504906277\n",
            "  batch 6000 loss: 0.24631966967113111\n",
            "  batch 7000 loss: 0.23817789920653923\n",
            "  batch 8000 loss: 0.25462297713982845\n",
            "  batch 9000 loss: 0.22395706659526696\n",
            "  batch 10000 loss: 0.25627656099107843\n",
            "  batch 11000 loss: 0.2573559935156154\n",
            "  batch 12000 loss: 0.25741409157701717\n",
            "  batch 13000 loss: 0.24720784757477077\n",
            "  batch 14000 loss: 0.25622543289736494\n",
            "  batch 15000 loss: 0.25820387492219016\n",
            "LOSS train 0.25820387492219016 valid 0.3022319972515106\n",
            "EPOCH 7:\n",
            "  batch 1000 loss: 0.2308430947072329\n",
            "  batch 2000 loss: 0.23502888343694234\n",
            "  batch 3000 loss: 0.23733044100453868\n",
            "  batch 4000 loss: 0.25389805830324735\n",
            "  batch 5000 loss: 0.23886355937726103\n",
            "  batch 6000 loss: 0.22547728330716837\n",
            "  batch 7000 loss: 0.22654535831353723\n",
            "  batch 8000 loss: 0.2519549112568682\n",
            "  batch 9000 loss: 0.2296987601967262\n",
            "  batch 10000 loss: 0.23274765488805496\n",
            "  batch 11000 loss: 0.24503775632835276\n",
            "  batch 12000 loss: 0.23145038742409407\n",
            "  batch 13000 loss: 0.2568165462529384\n",
            "  batch 14000 loss: 0.250010265337239\n",
            "  batch 15000 loss: 0.247281269187984\n",
            "LOSS train 0.247281269187984 valid 0.301454097032547\n",
            "EPOCH 8:\n",
            "  batch 1000 loss: 0.22962884420955879\n",
            "  batch 2000 loss: 0.22639298029258112\n",
            "  batch 3000 loss: 0.2068358873004954\n",
            "  batch 4000 loss: 0.2285047636806721\n",
            "  batch 5000 loss: 0.20367143862528872\n",
            "  batch 6000 loss: 0.23362441677471066\n",
            "  batch 7000 loss: 0.23484609589653702\n",
            "  batch 8000 loss: 0.2463224386001957\n",
            "  batch 9000 loss: 0.24336091992290357\n",
            "  batch 10000 loss: 0.21445605620197672\n",
            "  batch 11000 loss: 0.22749651242360325\n",
            "  batch 12000 loss: 0.24423070594819363\n",
            "  batch 13000 loss: 0.22540839870822038\n",
            "  batch 14000 loss: 0.23599102517671328\n",
            "  batch 15000 loss: 0.22911335415464237\n",
            "LOSS train 0.22911335415464237 valid 0.3046514093875885\n",
            "EPOCH 9:\n",
            "  batch 1000 loss: 0.20743905993228465\n",
            "  batch 2000 loss: 0.2037221831421184\n",
            "  batch 3000 loss: 0.22536696688274968\n",
            "  batch 4000 loss: 0.20085467628783907\n",
            "  batch 5000 loss: 0.21729753512452227\n",
            "  batch 6000 loss: 0.21102524987603352\n",
            "  batch 7000 loss: 0.2273950841421306\n",
            "  batch 8000 loss: 0.2328278008438483\n",
            "  batch 9000 loss: 0.22303687291792493\n",
            "  batch 10000 loss: 0.22235178646971185\n",
            "  batch 11000 loss: 0.20860046352958908\n",
            "  batch 12000 loss: 0.21662646126309118\n",
            "  batch 13000 loss: 0.22099122317407818\n",
            "  batch 14000 loss: 0.2075679120651704\n",
            "  batch 15000 loss: 0.2331675147515025\n",
            "LOSS train 0.2331675147515025 valid 0.30424752831459045\n",
            "EPOCH 10:\n",
            "  batch 1000 loss: 0.19470961334184586\n",
            "  batch 2000 loss: 0.20658154822524993\n",
            "  batch 3000 loss: 0.19065092586234475\n",
            "  batch 4000 loss: 0.2078574387811343\n",
            "  batch 5000 loss: 0.21891034453466882\n",
            "  batch 6000 loss: 0.20390549797006782\n",
            "  batch 7000 loss: 0.2126065195681342\n",
            "  batch 8000 loss: 0.21269607021842035\n",
            "  batch 9000 loss: 0.2140150164847329\n",
            "  batch 10000 loss: 0.21387875502223153\n",
            "  batch 11000 loss: 0.21616762286473767\n",
            "  batch 12000 loss: 0.22014449467418035\n",
            "  batch 13000 loss: 0.21747262025822842\n",
            "  batch 14000 loss: 0.207097237990311\n",
            "  batch 15000 loss: 0.22114674070092497\n",
            "LOSS train 0.22114674070092497 valid 0.2926095724105835\n"
          ]
        }
      ],
      "source": [
        "# Initializing in a separate cell so we can easily add more epochs to the same run\n",
        "timestamp = datetime.now().strftime('%Y%m%d_%H%M%S')\n",
        "writer = SummaryWriter('runs/fashion_trainer_{}'.format(timestamp))\n",
        "epoch_number = 0\n",
        "\n",
        "EPOCHS = 10\n",
        "\n",
        "best_vloss = 1_000_000.\n",
        "\n",
        "for epoch in range(EPOCHS):\n",
        "    print('EPOCH {}:'.format(epoch_number + 1))\n",
        "\n",
        "    # Make sure gradient tracking is on, and do a pass over the data\n",
        "    model.train(True)\n",
        "    avg_loss = train_one_epoch(epoch_number, writer)\n",
        "\n",
        "\n",
        "    running_vloss = 0.0\n",
        "    # Set the model to evaluation mode, disabling dropout and using population\n",
        "    # statistics for batch normalization.\n",
        "    model.eval()\n",
        "\n",
        "    # Disable gradient computation and reduce memory consumption.\n",
        "    with torch.no_grad():\n",
        "        for i, vdata in enumerate(validation_loader):\n",
        "            vinputs, vlabels = vdata\n",
        "            voutputs = model(vinputs)\n",
        "            vloss = loss_fn(voutputs, vlabels)\n",
        "            running_vloss += vloss\n",
        "\n",
        "    avg_vloss = running_vloss / (i + 1)\n",
        "    print('LOSS train {} valid {}'.format(avg_loss, avg_vloss))\n",
        "\n",
        "    # Log the running loss averaged per batch\n",
        "    # for both training and validation\n",
        "    writer.add_scalars('Training vs. Validation Loss',\n",
        "                    { 'Training' : avg_loss, 'Validation' : avg_vloss },\n",
        "                    epoch_number + 1)\n",
        "    writer.flush()\n",
        "\n",
        "    # Track best performance, and save the model's state\n",
        "    if avg_vloss < best_vloss:\n",
        "        best_vloss = avg_vloss\n",
        "        model_path = 'model_{}_{}'.format(timestamp, epoch_number)\n",
        "        torch.save(model.state_dict(), model_path)\n",
        "\n",
        "    epoch_number += 1"
      ]
    }
  ],
  "metadata": {
    "kernelspec": {
      "display_name": "Python 3",
      "language": "python",
      "name": "python3"
    },
    "language_info": {
      "codemirror_mode": {
        "name": "ipython",
        "version": 3
      },
      "file_extension": ".py",
      "mimetype": "text/x-python",
      "name": "python",
      "nbconvert_exporter": "python",
      "pygments_lexer": "ipython3",
      "version": "3.10.12"
    },
    "colab": {
      "provenance": [],
      "toc_visible": true
    }
  },
  "nbformat": 4,
  "nbformat_minor": 0
}
